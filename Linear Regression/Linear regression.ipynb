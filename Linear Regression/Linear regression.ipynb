{
 "cells": [
  {
   "cell_type": "markdown",
   "metadata": {},
   "source": [
    "# Linear regression"
   ]
  },
  {
   "cell_type": "markdown",
   "metadata": {},
   "source": [
    "The purpose of this work is to implement least square linear regression to medical data. The problem is based on an example described in the book by Hastie & Tibshirani (2009) pp. 3-4 & 49-63. Data come from a study published by Stamey et al. (1989). This study aims at the prediction of the level of prostate specific antigen, denoted by `lpsa` below, from the\n",
    "results of clinical exams. These exams are carried out before a possible\n",
    "prostatectomy.\n",
    "\n",
    "The measurements are log cancer volume `lcavol`, log prostate \n",
    "weight `lweight`, age of the patient `age`, log of benign prostatic \n",
    "hyperplasia amount `lbph`, seminal vesicle invasion `svi`, log of capsular \n",
    "penetration `lcp`, Gleason score `gleason`, and percent of Gleason scores 4 or \n",
    "5 `pgg45`. The variables `svi` and `gleason` are categorical, others are\n",
    "quantitative. There are `p=8` entries.\n",
    "The work is decomposed in the following tasks:\n",
    "\n",
    "* read and format the data : extraction of the training and test sets,\n",
    "* apply least square regression method to predict `lpsa` from the entries,\n",
    "* study the estimated error on the test set (validation),\n",
    "* identify the most significant entries by using a rejection test,\n",
    "* apply regularized least square regression method (ridge regression),\n",
    "* search for an optimal regularization parameter thanks to\n",
    "cross-validation."
   ]
  },
  {
   "cell_type": "code",
   "execution_count": 20,
   "metadata": {},
   "outputs": [
    {
     "data": {
      "text/html": [
       "<style>\n",
       ".output {\n",
       "    align-items: center;\n",
       "}\n",
       "</style>"
      ],
      "text/plain": [
       "<IPython.core.display.HTML object>"
      ]
     },
     "execution_count": 20,
     "metadata": {},
     "output_type": "execute_result"
    }
   ],
   "source": [
    "from IPython.core.display import HTML, Markdown, display\n",
    "import pandas as pd\n",
    "CSS = \"\"\"\n",
    ".output {\n",
    "    align-items: center;\n",
    "}\n",
    "\"\"\"\n",
    "\n",
    "HTML('<style>{}</style>'.format(CSS))"
   ]
  },
  {
   "cell_type": "code",
   "execution_count": 21,
   "metadata": {},
   "outputs": [],
   "source": [
    "import csv\n",
    "# import os\n",
    "from matplotlib.pylab import *\n",
    "import numpy as np\n",
    "from numpy import linalg as la\n",
    "import matplotlib.pyplot as plt"
   ]
  },
  {
   "cell_type": "markdown",
   "metadata": {},
   "source": [
    "## Read & Normalize data\n",
    "Data are stored in ASCII format: \n",
    "\n",
    "* the first column enumerates the data from 1 à 97 (97 male subjects). \n",
    "* columns 2 to 9 contain the entries themselves. \n",
    "* column 10 contains target values. \n",
    "* column 11 contains label 1 for the training set, \n",
    "and 2 for the test set."
   ]
  },
  {
   "cell_type": "code",
   "execution_count": 47,
   "metadata": {},
   "outputs": [
    {
     "name": "stdout",
     "output_type": "stream",
     "text": [
      "Data retrieval done\n"
     ]
    }
   ],
   "source": [
    "#%% To read data from spaced separated float numbers\n",
    "# x, y = np.loadtxt(c, delimiter=',', usecols=(0, 2), unpack=True)\n",
    "import copy\n",
    "data_init = np.loadtxt('prostate_data_sansheader.txt')\n",
    "\n",
    "data = data_init[:,1:]   # we get rid of the indices (1 to 97)\n",
    "\n",
    "#%% Extraction of training/test sets\n",
    "Itrain = np.nonzero(data[:,-1]==1)\n",
    "data_train=data[Itrain]   # original data\n",
    "copy_data_train=copy.deepcopy(data_train)\n",
    "Itest = np.nonzero(data[:,-1]==0)\n",
    "data_test = data[Itest]   # original data\n",
    "print(\"Data retrieval done\")"
   ]
  },
  {
   "cell_type": "markdown",
   "metadata": {},
   "source": [
    "**Normalization of the data** *with respect to the mean and standard deviation of the training set*."
   ]
  },
  {
   "cell_type": "code",
   "execution_count": 23,
   "metadata": {},
   "outputs": [
    {
     "name": "stdout",
     "output_type": "stream",
     "text": [
      "Data normalization with a for loop is done\n"
     ]
    }
   ],
   "source": [
    "M_train = data_train\n",
    "\n",
    "M_test = data_test \n",
    "moy = np.zeros((8,))\n",
    "sigma = np.zeros((8,))\n",
    "\n",
    "# With a FOR loop :\n",
    "for k in range(8): # 8 columns of entries\n",
    "    moy[k]=np.mean(data_train[:,k])\n",
    "    sigma[k] = np.std(data_train[:,k])\n",
    "    M_train[:,k] = (data_train[:,k]-moy[k])/sigma[k] # normalized: centered, variance 1\n",
    "    M_test[:,k] = (data_test[:,k]-moy[k])/sigma[k]   # same normalization for test set\n",
    "print('Data normalization with a for loop is done')"
   ]
  },
  {
   "cell_type": "code",
   "execution_count": 24,
   "metadata": {},
   "outputs": [
    {
     "name": "stdout",
     "output_type": "stream",
     "text": [
      "Data normalization with a lambda function is done\n"
     ]
    }
   ],
   "source": [
    "# Alternative WITHOUT FOR\n",
    "normalize = lambda vec: (vec-np.mean(vec))/np.std(vec)    # inline function \n",
    "M_train = np.array( [ normalize(vec) for vec in data_train[:,0:8].T ]).T  # iterate on vec direct / ARRAY not LIST\n",
    "moy = np.array( [ np.mean(vec) for vec in data_train[:,0:8].T ])\n",
    "sigma = np.array( [ np.std(vec) for vec in data_train[:,0:8].T ])\n",
    "\n",
    "M_test = np.array([ (data_test[:,k]-moy[k])/sigma[k] for k in range(M_train.shape[1]) ] ).T\n",
    "print('Data normalization with a lambda function is done')"
   ]
  },
  {
   "cell_type": "markdown",
   "metadata": {},
   "source": [
    "# Part 1 : simple least square regression"
   ]
  },
  {
   "cell_type": "markdown",
   "metadata": {},
   "source": [
    "## Preliminary questions\n",
    " \n",
    " * Compute the autocovariance matrix from the training set.\n",
    " * Observe carefully & Comment. What kind of information can you get ? "
   ]
  },
  {
   "cell_type": "code",
   "execution_count": 25,
   "metadata": {},
   "outputs": [
    {
     "data": {
      "text/plain": [
       "<matplotlib.colorbar.Colorbar at 0x2d1d847d208>"
      ]
     },
     "execution_count": 25,
     "metadata": {},
     "output_type": "execute_result"
    },
    {
     "data": {
      "image/png": "[encoded data removed]",
      "text/plain": [
       "<Figure size 720x720 with 2 Axes>"
      ]
     },
     "metadata": {
      "needs_background": "light"
     },
     "output_type": "display_data"
    }
   ],
   "source": [
    "# Preliminary questions\n",
    "import numpy as np\n",
    "import matplotlib.pyplot as plt\n",
    "\n",
    "cov_matrix=np.corrcoef(M_train, rowvar=False)\n",
    "fig, ax = plt.subplots(figsize=(10,10))\n",
    "# f = plt.figure(figsize=(5,5))\n",
    "min_val, max_val = 0, 8\n",
    "for i in range(8):\n",
    "    for j in range(8):\n",
    "        c = int(cov_matrix[j][i]*1000)/1000\n",
    "        ax.text(i, j, str(c), va='center', ha='center')\n",
    "\n",
    "Im=ax.matshow(cov_matrix)\n",
    "plt.colorbar(Im, ax=ax) \n"
   ]
  },
  {
   "cell_type": "markdown",
   "metadata": {},
   "source": [
    "# Comments on covariance results : \n",
    "### According to the correlation table, we can see that the correlation between some features is high :\n",
    "- Between the feature indexed by 0 and the one index by 5.\n",
    "- Between the feature indexed by 4 and the one index by 5.\n",
    "- Between the feature indexed by 5 and the one index by 7.\n",
    "- Between the feature indexed by 6 and the one index by 7.\n",
    "\n",
    "### From this first statistical description of the problem, we can already say that we can reduce the dimensionality of the problem and so the number of features. And in this case, we can speculate and say that the features indexed 5, 6 and 7 may already be omitted beacause of being highly correlated with the feature indexed by 4, but we still have to make a more elaborated statistical test to select  the main fatures of the problem, which is the objectif of the Z-scores method in the exercice number 1."
   ]
  },
  {
   "cell_type": "markdown",
   "metadata": {},
   "source": [
    "## Exercise 1 : least square regression \n",
    " * Build the matrix of features `X_train` for the training set, the first column is made of ones.\n",
    " * Estimate the regression vector `beta_hat` (estimates= `X*beta_hat`)\n",
    " _Indication: you may either use the function `inv` or another more efficient way to compute $A^{-1}B$ (think of `A\\B`)._ \n",
    " * What is the value of the first coefficient `beta_hat[0]` ? What does it correspond to ?\n",
    " * Estimate the prediction error (quadratic error) from the test set.\n",
    "\n",
    "\n",
    "*Indication: be careful of using `X_test` defined above, normalized w.r.t. the training data set. You can estimate this error by using:*"
   ]
  },
  {
   "cell_type": "code",
   "execution_count": 26,
   "metadata": {},
   "outputs": [],
   "source": [
    "t_test = data_test[:,8]   # target column\n",
    "N_test = data_test.shape[0]\n",
    "X_test = np.concatenate((np.ones((N_test,1)), M_test[:,0:8]), axis=1) \n",
    "# don't forget the 1st column of ones and normalization !"
   ]
  },
  {
   "cell_type": "code",
   "execution_count": 27,
   "metadata": {},
   "outputs": [
    {
     "data": {
      "text/html": [
       "<div>\n",
       "<style scoped>\n",
       "    .dataframe tbody tr th:only-of-type {\n",
       "        vertical-align: middle;\n",
       "    }\n",
       "\n",
       "    .dataframe tbody tr th {\n",
       "        vertical-align: top;\n",
       "    }\n",
       "\n",
       "    .dataframe thead th {\n",
       "        text-align: right;\n",
       "    }\n",
       "</style>\n",
       "<table border=\"1\" class=\"dataframe\">\n",
       "  <thead>\n",
       "    <tr style=\"text-align: right;\">\n",
       "      <th></th>\n",
       "      <th>Beta_hat Coefficients</th>\n",
       "    </tr>\n",
       "  </thead>\n",
       "  <tbody>\n",
       "    <tr>\n",
       "      <th>0</th>\n",
       "      <td>2.452345</td>\n",
       "    </tr>\n",
       "    <tr>\n",
       "      <th>1</th>\n",
       "      <td>0.711041</td>\n",
       "    </tr>\n",
       "    <tr>\n",
       "      <th>2</th>\n",
       "      <td>0.290450</td>\n",
       "    </tr>\n",
       "    <tr>\n",
       "      <th>3</th>\n",
       "      <td>-0.141482</td>\n",
       "    </tr>\n",
       "    <tr>\n",
       "      <th>4</th>\n",
       "      <td>0.210420</td>\n",
       "    </tr>\n",
       "    <tr>\n",
       "      <th>5</th>\n",
       "      <td>0.307300</td>\n",
       "    </tr>\n",
       "    <tr>\n",
       "      <th>6</th>\n",
       "      <td>-0.286841</td>\n",
       "    </tr>\n",
       "    <tr>\n",
       "      <th>7</th>\n",
       "      <td>-0.020757</td>\n",
       "    </tr>\n",
       "    <tr>\n",
       "      <th>8</th>\n",
       "      <td>0.275268</td>\n",
       "    </tr>\n",
       "  </tbody>\n",
       "</table>\n",
       "</div>"
      ],
      "text/plain": [
       "   Beta_hat Coefficients\n",
       "0               2.452345\n",
       "1               0.711041\n",
       "2               0.290450\n",
       "3              -0.141482\n",
       "4               0.210420\n",
       "5               0.307300\n",
       "6              -0.286841\n",
       "7              -0.020757\n",
       "8               0.275268"
      ]
     },
     "metadata": {},
     "output_type": "display_data"
    },
    {
     "data": {
      "text/markdown": [
       "### -The value of the first coefficient is <font color='red'>\"2.4523450850746267\"</font> and it is called the intercept or the bias (not the statistical bias) and insures that the mean of our residuals is null"
      ],
      "text/plain": [
       "<IPython.core.display.Markdown object>"
      ]
     },
     "metadata": {},
     "output_type": "display_data"
    },
    {
     "data": {
      "text/markdown": [
       "## $$E_ls =\\frac{1}{N}(\\sum_{i=0}^N |t\\_test_i - predicion_i|^2)^{1/2} = 0.13181729849904644$$"
      ],
      "text/plain": [
       "<IPython.core.display.Markdown object>"
      ]
     },
     "metadata": {},
     "output_type": "display_data"
    }
   ],
   "source": [
    "# Exercise 1\n",
    "\n",
    "# Build the matrix of features X_train for the training set\n",
    "t_train = copy_data_train[:,8]\n",
    "N_train = copy_data_train.shape[0]\n",
    "X_train = np.concatenate((np.ones((N_train,1)), M_train[:,0:8]), axis=1) \n",
    "# Estimate the regression vector beta_hat\n",
    "Moore_Inverse=dot(la.inv(dot(X_train.T,X_train)),X_train.T)\n",
    "beta_hat=dot(Moore_Inverse, t_train)\n",
    "df=pd.DataFrame(beta_hat,columns=[\"Beta_hat Coefficients\"])\n",
    "display(df)\n",
    "\n",
    "# The meaning behind beta_hat[0], the first coefficient of the regression estimated vector\n",
    "display(Markdown('### -The value of the first coefficient is <font color=\\'red\\'>\\\"{intercept}\\\"</font> and it is called the intercept or the bias (not the statistical bias) and insures that the mean of our residuals is null'.format(intercept=beta_hat[0])))\n",
    "\n",
    "# Estimate the prediction error (quadratic error) from the test set.\n",
    "error=la.norm([dot(X_test,beta_hat)[i]-t_test[i]  for i in range(len(t_test))],2)\n",
    "display(Markdown('## $$E_ls =\\\\frac{1}{N}(\\sum_{i=0}^N |t\\_test_i - predicion_i|^2)^{1/2} = '+str((1/len(t_test))*error)+'$$'))\n"
   ]
  },
  {
   "cell_type": "markdown",
   "metadata": {},
   "source": [
    "## Rejection test, computation of Z-scores\n",
    "Now we turn to the selection of the most significant entries so that our predictor be more robust. The essential idea is that our estimates will be more robust if only the most significant entries are taken into account. As a consequence, note that we will *reduce the dimension* of the problem from |p=8| to some smaller dimension. The present approach uses a statistical test to decide whether the regression coefficient corresponding to some entry is significantly non-zero. Then we can decide either to put non significant coefficients to zero, or to select the significant entries only and estimate the new reduced regression vector.\n",
    "\n",
    "Let's assume that target values are noisy due to some white Gaussian\n",
    "noise with variance $\\sigma^2$ (see Hastie & Tibshirani p. 47). One can show that the estimated regression vector |beta_hat| is also Gaussian with variance\n",
    "\n",
    "$$ var (\\widehat{\\beta}) = (X^TX)^{-1}\\sigma^2.$$  \n",
    "\n",
    "One can also show that the estimator of the variance (from the training set)\n",
    "\n",
    "$$\\widehat{\\sigma^2}=\\frac{1}{(N-p-1)}\\sum (t_n-\\widehat{t}_n)^2$$\n",
    "\n",
    "obeys a Chi-2 distribution. As a consequence a Chi-square statistical test can be used to determine whether some coefficient $\\beta_j$ is\n",
    "significantly non-zero. To this aim, one defines the variables $z_j$\n",
    "named Z-scores which in turn obey a Fisher law, also called\n",
    "$t$-distribution, which are often used in statistics:\n",
    "\n",
    "$$ z_j = \\frac{\\beta_j}{\\widehat{\\sigma}\\sqrt{v_j}} $$\n",
    "\n",
    "where $v_j$ is the $j$-th diagonal element of the matrix $(X^TX)^{-1}$.\n",
    "For sake of simplicity, we will consider that the null hypothesis of\n",
    "$\\beta_j$ is rejected with probability 95% if the Z-score is greater than 2."
   ]
  },
  {
   "cell_type": "markdown",
   "metadata": {},
   "source": [
    "## Exercise 2\n",
    "1. Compute the Z-scores and select the most significant entries.\n",
    "2. Estimate the prediction error over the test set if only these significant \n",
    "entries are taken into account for regression by putting other regression \n",
    "coefficients to zero.\n",
    "3. Estimate the new regression vector when only the significant features\n",
    "are taken into account.\n",
    "4. Compare to previous results (Exercise 1).\n",
    "\n",
    "*Indication 1 : to sort a vector `Z` in descending order*\n",
    "`val = np.sort(np.abs(Z))[-1:0:-1]`\n",
    "\n",
    "\n",
    "*Indication 2 :* to extract the diagonal of a matrix,\n",
    "`vXX = np.diag(inv(X.T.dot(X),k=0)`"
   ]
  },
  {
   "cell_type": "code",
   "execution_count": 28,
   "metadata": {},
   "outputs": [
    {
     "data": {
      "text/markdown": [
       "# <font color='red'>Question 1</font>"
      ],
      "text/plain": [
       "<IPython.core.display.Markdown object>"
      ]
     },
     "metadata": {},
     "output_type": "display_data"
    },
    {
     "data": {
      "text/html": [
       "<div>\n",
       "<style scoped>\n",
       "    .dataframe tbody tr th:only-of-type {\n",
       "        vertical-align: middle;\n",
       "    }\n",
       "\n",
       "    .dataframe tbody tr th {\n",
       "        vertical-align: top;\n",
       "    }\n",
       "\n",
       "    .dataframe thead th {\n",
       "        text-align: right;\n",
       "    }\n",
       "</style>\n",
       "<table border=\"1\" class=\"dataframe\">\n",
       "  <thead>\n",
       "    <tr style=\"text-align: right;\">\n",
       "      <th></th>\n",
       "      <th>The computed Z-scores</th>\n",
       "    </tr>\n",
       "  </thead>\n",
       "  <tbody>\n",
       "    <tr>\n",
       "      <th>0</th>\n",
       "      <td>28.181527</td>\n",
       "    </tr>\n",
       "    <tr>\n",
       "      <th>1</th>\n",
       "      <td>5.366290</td>\n",
       "    </tr>\n",
       "    <tr>\n",
       "      <th>2</th>\n",
       "      <td>2.750789</td>\n",
       "    </tr>\n",
       "    <tr>\n",
       "      <th>3</th>\n",
       "      <td>-1.395909</td>\n",
       "    </tr>\n",
       "    <tr>\n",
       "      <th>4</th>\n",
       "      <td>2.055846</td>\n",
       "    </tr>\n",
       "    <tr>\n",
       "      <th>5</th>\n",
       "      <td>2.469255</td>\n",
       "    </tr>\n",
       "    <tr>\n",
       "      <th>6</th>\n",
       "      <td>-1.866913</td>\n",
       "    </tr>\n",
       "    <tr>\n",
       "      <th>7</th>\n",
       "      <td>-0.146681</td>\n",
       "    </tr>\n",
       "    <tr>\n",
       "      <th>8</th>\n",
       "      <td>1.737840</td>\n",
       "    </tr>\n",
       "  </tbody>\n",
       "</table>\n",
       "</div>"
      ],
      "text/plain": [
       "   The computed Z-scores\n",
       "0              28.181527\n",
       "1               5.366290\n",
       "2               2.750789\n",
       "3              -1.395909\n",
       "4               2.055846\n",
       "5               2.469255\n",
       "6              -1.866913\n",
       "7              -0.146681\n",
       "8               1.737840"
      ]
     },
     "metadata": {},
     "output_type": "display_data"
    },
    {
     "data": {
      "text/html": [
       "<div>\n",
       "<style scoped>\n",
       "    .dataframe tbody tr th:only-of-type {\n",
       "        vertical-align: middle;\n",
       "    }\n",
       "\n",
       "    .dataframe tbody tr th {\n",
       "        vertical-align: top;\n",
       "    }\n",
       "\n",
       "    .dataframe thead th {\n",
       "        text-align: right;\n",
       "    }\n",
       "</style>\n",
       "<table border=\"1\" class=\"dataframe\">\n",
       "  <thead>\n",
       "    <tr style=\"text-align: right;\">\n",
       "      <th></th>\n",
       "      <th>Adjusted beta_hat Coefficients</th>\n",
       "    </tr>\n",
       "  </thead>\n",
       "  <tbody>\n",
       "    <tr>\n",
       "      <th>0</th>\n",
       "      <td>2.452345</td>\n",
       "    </tr>\n",
       "    <tr>\n",
       "      <th>1</th>\n",
       "      <td>0.711041</td>\n",
       "    </tr>\n",
       "    <tr>\n",
       "      <th>2</th>\n",
       "      <td>0.290450</td>\n",
       "    </tr>\n",
       "    <tr>\n",
       "      <th>3</th>\n",
       "      <td>0.000000</td>\n",
       "    </tr>\n",
       "    <tr>\n",
       "      <th>4</th>\n",
       "      <td>0.210420</td>\n",
       "    </tr>\n",
       "    <tr>\n",
       "      <th>5</th>\n",
       "      <td>0.307300</td>\n",
       "    </tr>\n",
       "    <tr>\n",
       "      <th>6</th>\n",
       "      <td>0.000000</td>\n",
       "    </tr>\n",
       "    <tr>\n",
       "      <th>7</th>\n",
       "      <td>0.000000</td>\n",
       "    </tr>\n",
       "    <tr>\n",
       "      <th>8</th>\n",
       "      <td>0.000000</td>\n",
       "    </tr>\n",
       "  </tbody>\n",
       "</table>\n",
       "</div>"
      ],
      "text/plain": [
       "   Adjusted beta_hat Coefficients\n",
       "0                        2.452345\n",
       "1                        0.711041\n",
       "2                        0.290450\n",
       "3                        0.000000\n",
       "4                        0.210420\n",
       "5                        0.307300\n",
       "6                        0.000000\n",
       "7                        0.000000\n",
       "8                        0.000000"
      ]
     },
     "metadata": {},
     "output_type": "display_data"
    },
    {
     "data": {
      "text/markdown": [
       "# <font color='red'>Question 2</font>"
      ],
      "text/plain": [
       "<IPython.core.display.Markdown object>"
      ]
     },
     "metadata": {},
     "output_type": "display_data"
    },
    {
     "data": {
      "text/markdown": [
       "## $$E_ls =\\frac{1}{N}(\\sum_{i=0}^N |t\\_test_i - predicion_i|^2)^{1/2} = 0.12277711731332647$$"
      ],
      "text/plain": [
       "<IPython.core.display.Markdown object>"
      ]
     },
     "metadata": {},
     "output_type": "display_data"
    },
    {
     "data": {
      "text/markdown": [
       "# <font color='red'>Question 3</font>"
      ],
      "text/plain": [
       "<IPython.core.display.Markdown object>"
      ]
     },
     "metadata": {},
     "output_type": "display_data"
    },
    {
     "data": {
      "text/html": [
       "<div>\n",
       "<style scoped>\n",
       "    .dataframe tbody tr th:only-of-type {\n",
       "        vertical-align: middle;\n",
       "    }\n",
       "\n",
       "    .dataframe tbody tr th {\n",
       "        vertical-align: top;\n",
       "    }\n",
       "\n",
       "    .dataframe thead th {\n",
       "        text-align: right;\n",
       "    }\n",
       "</style>\n",
       "<table border=\"1\" class=\"dataframe\">\n",
       "  <thead>\n",
       "    <tr style=\"text-align: right;\">\n",
       "      <th></th>\n",
       "      <th>Updated Beta_hat Coefficients</th>\n",
       "    </tr>\n",
       "  </thead>\n",
       "  <tbody>\n",
       "    <tr>\n",
       "      <th>0</th>\n",
       "      <td>2.452345</td>\n",
       "    </tr>\n",
       "    <tr>\n",
       "      <th>1</th>\n",
       "      <td>0.623450</td>\n",
       "    </tr>\n",
       "    <tr>\n",
       "      <th>2</th>\n",
       "      <td>0.254883</td>\n",
       "    </tr>\n",
       "    <tr>\n",
       "      <th>3</th>\n",
       "      <td>0.203393</td>\n",
       "    </tr>\n",
       "    <tr>\n",
       "      <th>4</th>\n",
       "      <td>0.280055</td>\n",
       "    </tr>\n",
       "  </tbody>\n",
       "</table>\n",
       "</div>"
      ],
      "text/plain": [
       "   Updated Beta_hat Coefficients\n",
       "0                       2.452345\n",
       "1                       0.623450\n",
       "2                       0.254883\n",
       "3                       0.203393\n",
       "4                       0.280055"
      ]
     },
     "metadata": {},
     "output_type": "display_data"
    },
    {
     "data": {
      "text/markdown": [
       "# <font color='red'>Question 4</font>"
      ],
      "text/plain": [
       "<IPython.core.display.Markdown object>"
      ]
     },
     "metadata": {},
     "output_type": "display_data"
    },
    {
     "data": {
      "text/markdown": [
       "## $$E_ls =\\frac{1}{N}(\\sum_{i=0}^N |t\\_test_i - predicion_i|^2)^{1/2} = 0.1233331696449584$$"
      ],
      "text/plain": [
       "<IPython.core.display.Markdown object>"
      ]
     },
     "metadata": {},
     "output_type": "display_data"
    },
    {
     "data": {
      "text/markdown": [
       "## 2.4. According to the error results, we can say that the statistical tests based coefficients are more performant on generalization error"
      ],
      "text/plain": [
       "<IPython.core.display.Markdown object>"
      ]
     },
     "metadata": {},
     "output_type": "display_data"
    }
   ],
   "source": [
    "# Exercise 2\n",
    "\n",
    "display(Markdown('# <font color=\\'red\\'>Question 1</font>'))\n",
    "# Compute the Z-scores\n",
    "p=8\n",
    "N=len(t_train)\n",
    "beta=beta_hat\n",
    "estimated_sigma=np.sqrt(np.array([(1/(N-p-1))*((t_train[i]-dot(X_train,beta_hat)[i])**2) for i in range(N)]).sum())\n",
    "vXX = np.diag(inv(X_train.T.dot(X_train)),k=0)\n",
    "z=[beta[i]/(estimated_sigma*np.sqrt(vXX[i])) for i in range(len(beta))]\n",
    "display(pd.DataFrame(z,columns=[\"The computed Z-scores\"]))\n",
    "\n",
    "# selection of the most significant entries\n",
    "adjusted_beta_hat=[beta[i] if abs(z[i])>=2 else 0 for i in range(len(z))]\n",
    "display(pd.DataFrame(adjusted_beta_hat,columns=[\"Adjusted beta_hat Coefficients\"]))\n",
    "\n",
    "display(Markdown('# <font color=\\'red\\'>Question 2</font>'))\n",
    "# Estimate the prediction error (quadratic error) from the test set.\n",
    "error1=la.norm([dot(X_test,adjusted_beta_hat)[i]-t_test[i]  for i in range(len(t_test))],2)\n",
    "display(Markdown('## $$E_ls =\\\\frac{1}{N}(\\sum_{i=0}^N |t\\_test_i - predicion_i|^2)^{1/2} = '+str((1/len(t_test))*error1)+'$$'))\n",
    "\n",
    "display(Markdown('# <font color=\\'red\\'>Question 3</font>'))\n",
    "# Estimate the new regression vector when only the significant features are taken into account.\n",
    "new_X_train = np.concatenate((np.ones((N_train,1)), np.delete(M_train[:,0:8], [2,5,6,7], axis=1)), axis=1) \n",
    "Moore_Inverse_1=dot(la.inv(dot(new_X_train.T,new_X_train)),new_X_train.T)\n",
    "updated_beta_hat=dot(Moore_Inverse_1, t_train)\n",
    "display(pd.DataFrame(updated_beta_hat,columns=[\"Updated Beta_hat Coefficients\"]))\n",
    "\n",
    "display(Markdown('# <font color=\\'red\\'>Question 4</font>'))\n",
    "# Compare to previous results (Exercise 1).\n",
    "new_X_test=np.delete(X_test,[3,6,7,8],axis=1)\n",
    "error2=la.norm([dot(new_X_test,updated_beta_hat)[i]-t_test[i]  for i in range(len(t_test))],2)\n",
    "display(Markdown('## $$E_ls =\\\\frac{1}{N}(\\sum_{i=0}^N |t\\_test_i - predicion_i|^2)^{1/2} = '+str((1/len(t_test))*error2)+'$$'))\n",
    "display(Markdown('## 2.4. According to the error results, we can say that the statistical tests based coefficients are more performant on generalization error'))"
   ]
  },
  {
   "cell_type": "markdown",
   "metadata": {},
   "source": [
    "# Part 2: Regularized least squares\n",
    "This part deals with regularized least square regression. We denote\n",
    "by `beta_hat_reg` the resulting coefficients. This approach is an alternative to the selection based on statistical tests above. The idea is now to penalize large values of regression coefficients, *except for the bias*.\n",
    "\n",
    "We use the result:\n",
    "\n",
    "$$\\hat{\\beta} = (\\lambda I_p + X_c^T X_c)^{-1} X_c^T t_c$$\n",
    "\n",
    "where $X_c$ contains the normalized entries of the training data set with \n",
    "no column of ones (the bias should no be penalized and is processed). \n",
    "The targets `t_c` are therefore also centered, `t_c=t-mean(t)`.\n",
    " \n",
    "First, we estimate the bias $t_0$ to center the targets which yields the coefficient $\\beta_0$, that is `beta_hat_reg[0]` in Python.\n",
    "\n",
    "*Remark : the bias is estimated as the empirical average of targets.\n",
    "For tests, entries should be normalized with respect to the means and\n",
    "variances of the training data set (see exercise 3.5 p. 95 in Hastie & Tibshirani). Then work on the vector of entries with no column of ones.*"
   ]
  },
  {
   "cell_type": "markdown",
   "metadata": {},
   "source": [
    "## Exercise 3\n",
    "1. Use _ridge regression_ for penalty `lambda = 25` to estimate the regression vector. \n",
    "2. Estimate the prediction error from the test set.\n",
    "3. Compare the results (coefficients $\\beta$, error...) to previous ones.\n",
    "4. You may also compare these results to the result of best subset selection below:\n",
    "\n",
    "`beta_best = [2.477 0.74 0.316 0 0 0 0 0 0]`.\n",
    "\n",
    "*Indication : a simple way to obtain predictions for the test data set is the code below:*"
   ]
  },
  {
   "cell_type": "code",
   "execution_count": 29,
   "metadata": {},
   "outputs": [],
   "source": [
    "t = copy_data_train[:,8]   # column of targets\n",
    "t0 = np.mean(t)\n",
    "\n",
    "N_test = data_test.shape[0]\n",
    "X_test = np.hstack((np.ones((N_test,1)), M_test[:,0:8]))  "
   ]
  },
  {
   "cell_type": "code",
   "execution_count": 31,
   "metadata": {},
   "outputs": [
    {
     "data": {
      "text/markdown": [
       "# <font color='red'>Question 1</font>"
      ],
      "text/plain": [
       "<IPython.core.display.Markdown object>"
      ]
     },
     "metadata": {},
     "output_type": "display_data"
    },
    {
     "data": {
      "text/html": [
       "<div>\n",
       "<style scoped>\n",
       "    .dataframe tbody tr th:only-of-type {\n",
       "        vertical-align: middle;\n",
       "    }\n",
       "\n",
       "    .dataframe tbody tr th {\n",
       "        vertical-align: top;\n",
       "    }\n",
       "\n",
       "    .dataframe thead th {\n",
       "        text-align: right;\n",
       "    }\n",
       "</style>\n",
       "<table border=\"1\" class=\"dataframe\">\n",
       "  <thead>\n",
       "    <tr style=\"text-align: right;\">\n",
       "      <th></th>\n",
       "      <th>Ridge regression result coefficients</th>\n",
       "    </tr>\n",
       "  </thead>\n",
       "  <tbody>\n",
       "    <tr>\n",
       "      <th>0</th>\n",
       "      <td>2.452345</td>\n",
       "    </tr>\n",
       "    <tr>\n",
       "      <th>1</th>\n",
       "      <td>0.427636</td>\n",
       "    </tr>\n",
       "    <tr>\n",
       "      <th>2</th>\n",
       "      <td>0.250478</td>\n",
       "    </tr>\n",
       "    <tr>\n",
       "      <th>3</th>\n",
       "      <td>-0.044402</td>\n",
       "    </tr>\n",
       "    <tr>\n",
       "      <th>4</th>\n",
       "      <td>0.167204</td>\n",
       "    </tr>\n",
       "    <tr>\n",
       "      <th>5</th>\n",
       "      <td>0.232723</td>\n",
       "    </tr>\n",
       "    <tr>\n",
       "      <th>6</th>\n",
       "      <td>0.006741</td>\n",
       "    </tr>\n",
       "    <tr>\n",
       "      <th>7</th>\n",
       "      <td>0.042464</td>\n",
       "    </tr>\n",
       "    <tr>\n",
       "      <th>8</th>\n",
       "      <td>0.132972</td>\n",
       "    </tr>\n",
       "  </tbody>\n",
       "</table>\n",
       "</div>"
      ],
      "text/plain": [
       "   Ridge regression result coefficients\n",
       "0                              2.452345\n",
       "1                              0.427636\n",
       "2                              0.250478\n",
       "3                             -0.044402\n",
       "4                              0.167204\n",
       "5                              0.232723\n",
       "6                              0.006741\n",
       "7                              0.042464\n",
       "8                              0.132972"
      ]
     },
     "metadata": {},
     "output_type": "display_data"
    },
    {
     "data": {
      "text/markdown": [
       "# <font color='red'>Question 2</font>"
      ],
      "text/plain": [
       "<IPython.core.display.Markdown object>"
      ]
     },
     "metadata": {},
     "output_type": "display_data"
    },
    {
     "data": {
      "text/markdown": [
       "## $$E_ls =\\frac{1}{N}(\\sum_{i=0}^N |t\\_test_i - predicion_i|^2)^{1/2} = 0.12821386171452515$$"
      ],
      "text/plain": [
       "<IPython.core.display.Markdown object>"
      ]
     },
     "metadata": {},
     "output_type": "display_data"
    },
    {
     "data": {
      "text/markdown": [
       "# <font color='red'>Question 3</font>"
      ],
      "text/plain": [
       "<IPython.core.display.Markdown object>"
      ]
     },
     "metadata": {},
     "output_type": "display_data"
    },
    {
     "data": {
      "text/markdown": [
       "## 3.1. Except the intercept (bias value) the coefficients of beta are different from the previous ones."
      ],
      "text/plain": [
       "<IPython.core.display.Markdown object>"
      ]
     },
     "metadata": {},
     "output_type": "display_data"
    },
    {
     "data": {
      "text/markdown": [
       "## 3.2. In terms of error, the error is better than the first model's one but still bigger than the generalization error when using the selected features with tests statistical coefficients."
      ],
      "text/plain": [
       "<IPython.core.display.Markdown object>"
      ]
     },
     "metadata": {},
     "output_type": "display_data"
    },
    {
     "data": {
      "text/markdown": [
       "# <font color='red'>Question 4</font>"
      ],
      "text/plain": [
       "<IPython.core.display.Markdown object>"
      ]
     },
     "metadata": {},
     "output_type": "display_data"
    },
    {
     "data": {
      "text/markdown": [
       "## $$E_ls =\\frac{1}{N}(\\sum_{i=0}^N |t\\_test_i - predicion_i|^2)^{1/2} = 0.12828181231322738$$"
      ],
      "text/plain": [
       "<IPython.core.display.Markdown object>"
      ]
     },
     "metadata": {},
     "output_type": "display_data"
    },
    {
     "data": {
      "text/markdown": [
       "## 4.  the generalization error used with \"beta_best\" coefficients is very close to the Regularized model one."
      ],
      "text/plain": [
       "<IPython.core.display.Markdown object>"
      ]
     },
     "metadata": {},
     "output_type": "display_data"
    }
   ],
   "source": [
    "# Exercise 3\n",
    "\n",
    "display(Markdown('# <font color=\\'red\\'>Question 1</font>'))\n",
    "# Use ridge regression for penalty lambda = 25 to estimate the regression vector.\n",
    "\n",
    "#         beta_hat=Regularized_least_squares(Lambda, t_trainset, normalized_trainset)\n",
    "#         error=la.norm([dot(final_testset,beta_hat)[i]-t_testset[i]  for i in range(len(t_testset))],2)\n",
    "#         errors.append((1/len(t_testset))*error)\n",
    "def Regularized_least_squares(lambda0, new_t_train, RL_X_train):\n",
    "    t_0=np.mean(new_t_train)\n",
    "    t_trainSet=np.array([new_t_train[i]-t_0 for i in range(len(new_t_train))])\n",
    "    Moore_inverse=dot(la.inv(dot(RL_X_train.T,RL_X_train)+lambda0*np.identity(8)),RL_X_train.T)\n",
    "    beta_hat_Reg=dot(Moore_inverse, new_t_train)\n",
    "    beta_hat_Reg=np.array([t_0]+list(beta_hat_Reg))\n",
    "    return beta_hat_Reg\n",
    "\n",
    "beta_hat_reg=Regularized_least_squares(24,t, M_train[:,0:8])\n",
    "display(pd.DataFrame(beta_hat_reg,columns=[\"Ridge regression result coefficients\"]))\n",
    "\n",
    "\n",
    "display(Markdown('# <font color=\\'red\\'>Question 2</font>'))\n",
    "# Estimate the prediction error from the test set\n",
    "error3=la.norm([dot(X_test,beta_hat_reg)[i]-t_test[i]  for i in range(len(t_test))],2)\n",
    "display(Markdown('## $$E_ls =\\\\frac{1}{N}(\\sum_{i=0}^N |t\\_test_i - predicion_i|^2)^{1/2} = '+str((1/len(t_test))*error3)+'$$'))\n",
    "\n",
    "display(Markdown('# <font color=\\'red\\'>Question 3</font>'))\n",
    "# Compare the results (coefficients  𝛽 , error...) to previous ones.\n",
    "display(Markdown('## 3.1. Except the intercept (bias value) the coefficients of beta are different from the previous ones.'))\n",
    "display(Markdown('## 3.2. In terms of error, the error is better than the first model\\'s one but still bigger than the generalization error when using the selected features with tests statistical coefficients.'))\n",
    "\n",
    "\n",
    "display(Markdown('# <font color=\\'red\\'>Question 4</font>'))\n",
    "# compare these results to the result of best subset selection below:\n",
    "beta_best = np.array([2.477, 0.74, 0.316, 0, 0, 0, 0, 0, 0])\n",
    "error4=la.norm([dot(X_test,beta_best)[i]-t_test[i]  for i in range(len(t_test))],2)\n",
    "display(Markdown('## $$E_ls =\\\\frac{1}{N}(\\sum_{i=0}^N |t\\_test_i - predicion_i|^2)^{1/2} = '+str((1/len(t_test))*error4)+'$$'))\n",
    "display(Markdown('## 4.  the generalization error used with \\\"beta_best\\\" coefficients is very close to the Regularized model one.'))\n"
   ]
  },
  {
   "cell_type": "markdown",
   "metadata": {},
   "source": [
    "# Part 3: Cross-Validation \n",
    "\n",
    "## How to choose lambda from the training data set only ? \n",
    "\n",
    "The idea is to decompose the training set in 2 subsets: one subset for\n",
    "linear regression (say 9/10 of the data), the other to estimate the prediction error (say 1/10 of the data).\n",
    "\n",
    "We can repeat this operation 10 times over the 10 possible couples of\n",
    "subsets to estimate the average prediction error. We will choose the\n",
    "value of `lambda` which minimizes this error. The algorithm goes as\n",
    "follows:\n",
    "\n",
    "For the 10 cross-validation cases\n",
    "    \n",
    "    Extraction of test & training subsets `testset` & `trainset`\n",
    "    \n",
    "    For lambda in 0:40\n",
    "        Estimate `beta_hat` from normalized `trainset` (mean=0, var=1)\n",
    "        Estimate the error from  `testset`\n",
    "    EndFor lambda\n",
    "\n",
    "EndFor 10 cases\n",
    "\n",
    "Compute the average error for each lambda\n",
    "\n",
    "Choose `lambda` which minimizes the error \n"
   ]
  },
  {
   "cell_type": "markdown",
   "metadata": {},
   "source": [
    "## Exercise 4\n",
    "* Use 6-fold cross-validation in the present study to optimize the choice of `lambda`. \n",
    "Try values of `lambda` rangin from 0 to 40 for instance (0:40).\n",
    "* Plot the estimated error as a function of `lambda`.\n",
    "* Propose a well chosen value of `lambda` and give the estimated corresponding\n",
    "error on the test set.\n",
    "* Comment on your results.\n",
    "\n",
    "*Indication 1 : think of shuffling the dataset first.*\n",
    "\n",
    "*Indication 2 : you can build 6 training and test subsets by using the code below*"
   ]
  },
  {
   "cell_type": "code",
   "execution_count": 40,
   "metadata": {},
   "outputs": [],
   "source": [
    "lmax = 40\n",
    "lambda_pos = arange(0,lmax+1) \n",
    "\n",
    "N_test = 10\n",
    "m=np.zeros(8)\n",
    "s = np.zeros(8)\n",
    "X_traink = np.zeros((X_train.shape[0]-N_test,8))\n",
    "X_testk = np.zeros((N_test,8))\n",
    "erreur = np.zeros((6,lmax+1))\n",
    "erreur_rel = np.zeros((6,lmax+1))\n",
    "# print(data_train[arange(0,N_test),0:9].shape)\n"
   ]
  },
  {
   "cell_type": "code",
   "execution_count": 46,
   "metadata": {},
   "outputs": [
    {
     "data": {
      "text/markdown": [
       "## - <font color='red'>In the figures we plot the the errors over the test sets for each $\\lambda$ and the averaged value of the errors</font>"
      ],
      "text/plain": [
       "<IPython.core.display.Markdown object>"
      ]
     },
     "metadata": {},
     "output_type": "display_data"
    },
    {
     "data": {
      "image/png": "[encoded data removed]",
      "text/plain": [
       "<Figure size 1000x1000 with 6 Axes>"
      ]
     },
     "metadata": {
      "needs_background": "light"
     },
     "output_type": "display_data"
    }
   ],
   "source": [
    "# Exercise 4 \n",
    "np.random.shuffle(copy_data_train)\n",
    "display(Markdown('## - <font color=\\'red\\'>In the figures we plot the the errors over the test sets for each '+r'$\\lambda$'+' and the averaged value of the errors</font>'))\n",
    "plt.figure(figsize=(10, 10), dpi=100)\n",
    "for p in range(6):   # loop on test subsets\n",
    "    # extraction of testset\n",
    "    testset  = copy_data_train[arange(p*N_test,(p+1)*N_test),0:9]\n",
    "    # extraction of trainset\n",
    "    trainset = copy_data_train[hstack((arange(p*N_test),arange((p+1)*N_test,copy_data_train.shape[0]))),0:9]\n",
    "    # normalization of entries,  \n",
    "    normalized_trainset = np.array([normalize(vec) if np.std(vec)!=0 else vec for vec in trainset[:,0:8].T]).T  # iterate on vec direct / ARRAY not LIST\n",
    "    normalized_testset = np.array([normalize(vec) if np.std(vec)!=0 else vec for vec in testset[:,0:8].T]).T\n",
    "    # target values\n",
    "    t_trainset = trainset[:,8] \n",
    "    t_testset = testset[:,8]\n",
    "    # adding ones to test set\n",
    "    final_testset = np.concatenate((np.ones((N_test,1)), normalized_testset), axis=1) \n",
    "    errors=[]\n",
    "    for Lambda in lambda_pos:\n",
    "        beta_hat=Regularized_least_squares(Lambda, t_trainset, normalized_trainset)\n",
    "        error=la.norm([dot(final_testset,beta_hat)[i]-t_testset[i]  for i in range(len(t_testset))],2)\n",
    "        errors.append((1/len(t_testset))*error)\n",
    "    erros=np.array(errors)\n",
    "    l=320+p+1\n",
    "    plt.subplot(l)\n",
    "    e = [i for i in range(len(errors)) if errors[i]==min(errors)]\n",
    "    minimal_error=min(errors)\n",
    "    plt.plot(errors,label='Optimal ' +r'$\\lambda$ '+'= {Lambda} \\nwith generalization error of {minimal_error}'.format(Lambda=e[0],minimal_error=minimal_error),linewidth=1)\n",
    "    plt.plot([np.array(errors).mean() for i in range(len(errors))],label='averaged error, ' +r'$\\mu$'+ ' = {mean}\\n standard variation, '.format(mean=np.array(errors).mean())+r'$\\sigma$'+' = {sigma}'.format(sigma=np.array(errors).std()))\n",
    "    plt.grid(True)\n",
    "    plt.xlabel(r' Value of $\\lambda$')\n",
    "    plt.ylabel('Generalization error')\n",
    "    plt.legend(loc=2, prop={'size': 6.5})\n",
    "    \n",
    "    \n",
    "        \n",
    "        \n",
    "        "
   ]
  },
  {
   "cell_type": "code",
   "execution_count": 44,
   "metadata": {},
   "outputs": [
    {
     "data": {
      "text/markdown": [
       "## <font color='red'>The use of the 6-cross validation over one repartition of data set is not suffiscient to make a final claim about the optimal value of $\\lambda$ and the averaged value of the errors.</font>"
      ],
      "text/plain": [
       "<IPython.core.display.Markdown object>"
      ]
     },
     "metadata": {},
     "output_type": "display_data"
    },
    {
     "data": {
      "text/markdown": [
       "## <font color='red'> A way to estimate a best $\\lambda$ would be by making more simulations of cross validations, each time with different repartitions of data over the sub sets. We choose the one that mimimizes the averaged error each time.</font>"
      ],
      "text/plain": [
       "<IPython.core.display.Markdown object>"
      ]
     },
     "metadata": {},
     "output_type": "display_data"
    },
    {
     "data": {
      "text/markdown": [
       "## <font color='red'> [On fait l'hypothèse que si on obtient une valeur de $\\lambda$ extrémale (0 ou 40 dans notre cas) on considère que l'estimation est mauvaise parce qu'elle dramatise la régularisation de l'erreur à minimiser sans forcément améliorer la performance du modèle. Ainsi, on supprime les valeurs extrémales de la liste des meilleurs valeurs de $\\lambda$ calculées.]"
      ],
      "text/plain": [
       "<IPython.core.display.Markdown object>"
      ]
     },
     "metadata": {},
     "output_type": "display_data"
    },
    {
     "data": {
      "image/png": "[encoded data removed]",
      "text/plain": [
       "<Figure size 432x288 with 1 Axes>"
      ]
     },
     "metadata": {
      "needs_background": "light"
     },
     "output_type": "display_data"
    },
    {
     "data": {
      "text/markdown": [
       "## - <font color='red'> The optimal value for a number of iterations n = 100 is : $\\lambda$ = 13</font>"
      ],
      "text/plain": [
       "<IPython.core.display.Markdown object>"
      ]
     },
     "metadata": {},
     "output_type": "display_data"
    },
    {
     "data": {
      "image/png": "[encoded data removed]",
      "text/plain": [
       "<Figure size 432x288 with 1 Axes>"
      ]
     },
     "metadata": {
      "needs_background": "light"
     },
     "output_type": "display_data"
    },
    {
     "data": {
      "text/markdown": [
       "## - <font color='red'> The optimal value for a number of iterations n = 500 is : $\\lambda$ = 12</font>"
      ],
      "text/plain": [
       "<IPython.core.display.Markdown object>"
      ]
     },
     "metadata": {},
     "output_type": "display_data"
    },
    {
     "data": {
      "image/png": "[encoded data removed]",
      "text/plain": [
       "<Figure size 432x288 with 1 Axes>"
      ]
     },
     "metadata": {
      "needs_background": "light"
     },
     "output_type": "display_data"
    },
    {
     "data": {
      "text/markdown": [
       "## - <font color='red'> The optimal value for a number of iterations n = 1000 is : $\\lambda$ = 12</font>"
      ],
      "text/plain": [
       "<IPython.core.display.Markdown object>"
      ]
     },
     "metadata": {},
     "output_type": "display_data"
    }
   ],
   "source": [
    "# Exercise 4 \n",
    "display(Markdown('## <font color=\\'red\\'>The use of the 6-cross validation over one repartition of data set is not suffiscient to make a final claim about the optimal value of '+r'$\\lambda$'+' and the averaged value of the errors.</font>'))\n",
    "display(Markdown('## <font color=\\'red\\'> A way to estimate a best '+r'$\\lambda$'+' would be by making more simulations of cross validations, each time with different repartitions of data over the sub sets. We choose the one that mimimizes the averaged error each time.</font>'))\n",
    "display(Markdown('## <font color=\\'red\\'> [On fait l\\'hypothèse que si on obtient une valeur de '+r'$\\lambda$'+' extrémale (0 ou 40 dans notre cas) on considère que l\\'estimation est mauvaise parce qu\\'elle dramatise la régularisation de l\\'erreur à minimiser sans forcément améliorer la performance du modèle. Ainsi, on supprime les valeurs extrémales de la liste des meilleurs valeurs de '+r'$\\lambda$'+' calculées.]')) \n",
    "import random\n",
    "\n",
    "#The function multi_cross_validations takes a number of iterations \"n\" and returns the estimated optimal lambda after making\n",
    "# n times 6-cross validations with different repartitions of sub sets. The description of the process is explained in the markdown below\n",
    "#The function also plots the histogram of the list of values of lambda that minimazed the 6-cross validation\n",
    "\n",
    "def multi_cross_validations(n:int)->int:\n",
    "    SIZE=67\n",
    "    best_lambdas=[]\n",
    "    for p in range(n):   # loop on test subsets\n",
    "        minimal_error=999\n",
    "        optimal_lambda=0\n",
    "        a=list(arange(0,SIZE))\n",
    "        for t in range(6):\n",
    "            idx = random.sample(a, 10)\n",
    "            idx_bar=np.array([i for i in arange(0,SIZE) if i not in idx]) \n",
    "            testset  = copy.deepcopy(copy_data_train[idx,:][:,0:9])\n",
    "            # extraction of trainset\n",
    "            trainset = copy.deepcopy(copy_data_train[idx_bar,:][:,0:9]) \n",
    "            # normalization of entries,  \n",
    "            normalized_trainset = np.array([normalize(vec) if np.std(vec)!=0 else vec for vec in trainset[:,0:8].T]).T  # iterate on vec direct / ARRAY not LIST\n",
    "            normalized_testset = np.array([normalize(vec) if np.std(vec)!=0 else vec for vec in testset[:,0:8].T]).T\n",
    "            # target values\n",
    "            t_trainset = trainset[:,8] \n",
    "            t_testset = testset[:,8]\n",
    "            # adding ones to test set\n",
    "            final_testset = np.concatenate((np.ones((N_test,1)), normalized_testset), axis=1) \n",
    "            errors=[]\n",
    "            for Lambda in lambda_pos:\n",
    "                beta_hat=Regularized_least_squares(Lambda, t_trainset, normalized_trainset)\n",
    "                error=la.norm([dot(final_testset,beta_hat)[i]-t_testset[i]  for i in range(len(t_testset))],2)\n",
    "                errors.append((1/len(t_testset))*error)\n",
    "            erros=np.array(errors)\n",
    "            e = [i for i in range(len(errors)) if errors[i]==min(errors)]\n",
    "            if np.array(errors).mean()<minimal_error:\n",
    "                optimal_lambda=e[0]\n",
    "                minimal_error=np.array(errors).mean()\n",
    "            a=[i for i in a if i not in idx]\n",
    "        if optimal_lambda not in [0,40]:\n",
    "            best_lambdas.append(optimal_lambda)\n",
    "    best_lambdas=np.array(best_lambdas)\n",
    "    plt.hist(best_lambdas, bins=np.arange(best_lambdas.min(), best_lambdas.max()+1))\n",
    "    plt.show()\n",
    "    return int(np.array(best_lambdas).mean())\n",
    "\n",
    "#Test with multiple iterations values :\n",
    "for it in [100,500,1000]:\n",
    "    display(Markdown('## - <font color=\\'red\\'> The optimal value for a number of iterations n = {it}'.format(it=it)+' is : '+r'$\\lambda$'+' = {landa}'.format(landa=multi_cross_validations(it))+'</font>'))\n",
    "\n",
    "\n",
    "        \n",
    "\n",
    "\n",
    "        \n",
    "        "
   ]
  },
  {
   "cell_type": "markdown",
   "metadata": {},
   "source": [
    "# After multiple repetitions, an approximation of the optimal value of $\\lambda$ was then  $\\lambda$=12"
   ]
  },
  {
   "cell_type": "code",
   "execution_count": 19,
   "metadata": {},
   "outputs": [
    {
     "data": {
      "text/html": [
       "<div>\n",
       "<style scoped>\n",
       "    .dataframe tbody tr th:only-of-type {\n",
       "        vertical-align: middle;\n",
       "    }\n",
       "\n",
       "    .dataframe tbody tr th {\n",
       "        vertical-align: top;\n",
       "    }\n",
       "\n",
       "    .dataframe thead th {\n",
       "        text-align: right;\n",
       "    }\n",
       "</style>\n",
       "<table border=\"1\" class=\"dataframe\">\n",
       "  <thead>\n",
       "    <tr style=\"text-align: right;\">\n",
       "      <th></th>\n",
       "      <th>Ridge regression result coefficients with optimal $\\lambda$</th>\n",
       "    </tr>\n",
       "  </thead>\n",
       "  <tbody>\n",
       "    <tr>\n",
       "      <th>0</th>\n",
       "      <td>2.452345</td>\n",
       "    </tr>\n",
       "    <tr>\n",
       "      <th>1</th>\n",
       "      <td>0.427636</td>\n",
       "    </tr>\n",
       "    <tr>\n",
       "      <th>2</th>\n",
       "      <td>0.250478</td>\n",
       "    </tr>\n",
       "    <tr>\n",
       "      <th>3</th>\n",
       "      <td>-0.044402</td>\n",
       "    </tr>\n",
       "    <tr>\n",
       "      <th>4</th>\n",
       "      <td>0.167204</td>\n",
       "    </tr>\n",
       "    <tr>\n",
       "      <th>5</th>\n",
       "      <td>0.232723</td>\n",
       "    </tr>\n",
       "    <tr>\n",
       "      <th>6</th>\n",
       "      <td>0.006741</td>\n",
       "    </tr>\n",
       "    <tr>\n",
       "      <th>7</th>\n",
       "      <td>0.042464</td>\n",
       "    </tr>\n",
       "    <tr>\n",
       "      <th>8</th>\n",
       "      <td>0.132972</td>\n",
       "    </tr>\n",
       "  </tbody>\n",
       "</table>\n",
       "</div>"
      ],
      "text/plain": [
       "   Ridge regression result coefficients with optimal $\\lambda$\n",
       "0                                           2.452345          \n",
       "1                                           0.427636          \n",
       "2                                           0.250478          \n",
       "3                                          -0.044402          \n",
       "4                                           0.167204          \n",
       "5                                           0.232723          \n",
       "6                                           0.006741          \n",
       "7                                           0.042464          \n",
       "8                                           0.132972          "
      ]
     },
     "metadata": {},
     "output_type": "display_data"
    },
    {
     "data": {
      "text/markdown": [
       "# <font color='red'>Question 2</font>"
      ],
      "text/plain": [
       "<IPython.core.display.Markdown object>"
      ]
     },
     "metadata": {},
     "output_type": "display_data"
    },
    {
     "data": {
      "text/markdown": [
       "## $$E_ls =\\frac{1}{N}(\\sum_{i=0}^N |t\\_test_i - predicion_i|^2)^{1/2} = 0.12744577152277364$$"
      ],
      "text/plain": [
       "<IPython.core.display.Markdown object>"
      ]
     },
     "metadata": {},
     "output_type": "display_data"
    }
   ],
   "source": [
    "#We calculate for another time the coefficients of regularized regression with our optimal lambda\n",
    "beta_hat_reg_optimized=Regularized_least_squares(12,t, M_train[:,0:8])\n",
    "display(pd.DataFrame(beta_hat_reg,columns=[r\"Ridge regression result coefficients with optimal $\\lambda$\"]))\n",
    "\n",
    "display(Markdown('# <font color=\\'red\\'>Question 2</font>'))\n",
    "# Estimate the prediction error from the test set\n",
    "Error=la.norm([dot(X_test,beta_hat_reg_optimized)[i]-t_test[i]  for i in range(len(t_test))],2)\n",
    "display(Markdown('## $$E_ls =\\\\frac{1}{N}(\\sum_{i=0}^N |t\\_test_i - predicion_i|^2)^{1/2} = '+str((1/len(t_test))*Error)+'$$'))\n"
   ]
  },
  {
   "cell_type": "markdown",
   "metadata": {},
   "source": [
    "## We can clearly see that the error obtained with the optimized value of  $\\lambda$ is less (better) than with the value of 24 choosen in the exercice 3, but still bigger than the error calculated after the selection of features. Therfore, optimal regularization is not a final alternative to statistical tests for variables selections but helps assuming that the model we choose still can generalize the learning in a better way. Another idea would be to combine both the approches and calculate the regularizied model with the features already selected with the Z-scores test."
   ]
  }
 ],
 "metadata": {
  "kernelspec": {
   "display_name": "Python 3",
   "language": "python",
   "name": "python3"
  },
  "language_info": {
   "codemirror_mode": {
    "name": "ipython",
    "version": 3
   },
   "file_extension": ".py",
   "mimetype": "text/x-python",
   "name": "python",
   "nbconvert_exporter": "python",
   "pygments_lexer": "ipython3",
   "version": "3.7.4"
  }
 },
 "nbformat": 4,
 "nbformat_minor": 2
}
