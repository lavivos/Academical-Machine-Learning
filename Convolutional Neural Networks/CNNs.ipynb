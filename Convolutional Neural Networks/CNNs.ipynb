{
 "cells": [
  {
   "cell_type": "markdown",
   "metadata": {},
   "source": [
    "# Convolutional Neural Networks (CNN) and Deep Architectures\n",
    "\n",
    "In these practicals, we will create a first convolutional neural network (CNN). This type of networks mostly rely on alternating layers of convolution and pooling. A convolution layer is a signal processing inspired layer that performs a bunch of convolutions on the layer input and yields filtered outputs known as feature maps. A pooling layer is a sort of subsampling layer. Most of the time, after several Conv/Pool layer pairs, a usual MLP is plugged to obtain class membership probabilities. When the number of layers is rather high (unclear how high this is), we obtain a deep network.\n",
    "\n",
    "We will use `TensorFlow` as programming framework and build a CNN to solve an image classification task.\n",
    "\n",
    "## Starting with TensorFlow\n",
    "\n",
    "`TensorFlow` is Google's library designed to create and train deep nets. It relies on symbolic programming and on the notion of computation graph. Here is an example of such a graph:\n",
    "\n",
    "<img src=\"graph.png\" alt=\"drawing\" width=\"200\"/>\n",
    "\n",
    "In this graph, we prepare `TensorFlow` to later compute the following function :\n",
    "\n",
    "$$f\\left( x,y\\right) = x^2 + 2y,$$\n",
    "\n",
    "for some $x$ and $y$. In this graph, the variables $x$ and $y$ are instances of the `tf.placeholder` class. Given these two objects, programming function $f$ is quite easy. We just need one line of code to explain `TensorFlow` how to compute $f\\left( x,y\\right)$ given $x$ and $y$:\n",
    "\n",
    "```python\n",
    "f = x*x + 2*y\n",
    "```\n",
    "\n",
    "This is done in a symbolic way meaning that $+$ here is not the usual Python + but `TensorFlow`'s addition operator. \n",
    "\n",
    "There are consequently two programming phases when using `TensorFlow`:\n",
    "* graph building and variable declaration,\n",
    "* actual computation performed as part of a `session`.\n",
    "\n",
    "Here is the full code to build the graph for function $f$ followed by a `session` to compute function values for some $(x,y)$ pairs."
   ]
  },
  {
   "cell_type": "code",
   "execution_count": 539,
   "metadata": {},
   "outputs": [],
   "source": [
    "import tensorflow as tf\n",
    "import warnings\n",
    "warnings.filterwarnings(\"ignore\")"
   ]
  },
  {
   "cell_type": "code",
   "execution_count": 540,
   "metadata": {},
   "outputs": [
    {
     "name": "stdout",
     "output_type": "stream",
     "text": [
      "5.0\n",
      "10.0\n",
      "17.0\n"
     ]
    }
   ],
   "source": [
    "x = tf.placeholder(tf.float32,shape=[])\n",
    "y = tf.placeholder(tf.float32,shape=[])\n",
    "f = x*x + 2*y\n",
    "some_x = [1,2,3]\n",
    "some_y = [2,3,4]\n",
    "with tf.Session() as sess:\n",
    "    for i in range(len(some_x)):\n",
    "        print(sess.run(f,feed_dict={x: some_x[i],y: some_y[i]}))"
   ]
  },
  {
   "cell_type": "markdown",
   "metadata": {},
   "source": [
    "The `tf.placeholder` class is meant to define variables that will be later replaced with data streams. Here, we specified that these data are `float32` and that they are scalars (`shape=[]`). In the `session`, we explain `TensorFlow` that the `x` and `y` will now be replaced by some specific values which we defined before as integer lists. \n",
    "\n",
    "### Question1 :\n",
    "* Define in a symbolic way the gradient of function $f$ (see `TensorFlow.gradients` documentation) and compute the gradient vectors for the same $(x,y)$ pairs as in the above code. \n"
   ]
  },
  {
   "cell_type": "code",
   "execution_count": 541,
   "metadata": {},
   "outputs": [
    {
     "name": "stdout",
     "output_type": "stream",
     "text": [
      "The gradient of f on (x, y)=(1, 2) : [2.0, 2.0]\n",
      "The gradient of f on (x, y)=(2, 3) : [4.0, 2.0]\n",
      "The gradient of f on (x, y)=(3, 4) : [6.0, 2.0]\n"
     ]
    }
   ],
   "source": [
    "with tf.Session() as sess:\n",
    "    for i in range(len(some_x)):\n",
    "        print(\"The gradient of f on (x, y)={xy} :\".format(xy=(some_x[i],some_y[i])),sess.run(tf.gradients(f, [x,y]),feed_dict={x: some_x[i],y: some_y[i]}))"
   ]
  },
  {
   "cell_type": "markdown",
   "metadata": {},
   "source": [
    "---\n",
    "\n",
    "## Baseline CNN\n",
    "\n",
    "We are now almost ready to start building a `TensorFlow` graph containing convolution or pooling layers instead of the basic operations involved in function $f$. Unlike function $f$, the classification function that we are trying to learn is parametric. Parameters can be explicitely defined as `TensorFlow` variables which are instances of the `tf.Variable` class. Since the backpropagation cannot work if parameters are not intialized, we will be using an initializer provided by `TensorFlow`. However, we will not explicitely define parameters but instead use `TensorFlow` macroscopic layerwise functions which encompass `TensorFlow` variables. This makes the code much simpler but less modular.\n",
    "\n",
    "But first things first ! We need a dataset to work with and to load in Jupyter. We will be working with the `MNIST` dataset. This dataset contains 28x28 grayscale images of handwritten figures. It has the advantage to be larger than traditional datasets utilized in practicals while it can still hold in memory and converge in a few minutes. Larger or more complicated datasets (more variability in images) would require too many computational efforts.\n",
    "\n",
    "Download the `MNIST` archive at [mnist.pkl.gz](http://deeplearning.net/data/mnist/mnist.pkl.gz). Load the dataset using the `load_mnist` function. You need to feed it with the path to the `MNIST` archive."
   ]
  },
  {
   "cell_type": "code",
   "execution_count": 542,
   "metadata": {},
   "outputs": [],
   "source": [
    "import numpy as np\n",
    "import sys\n",
    "from matplotlib.pyplot import imshow\n",
    "import gzip\n",
    "import _pickle as cPickle\n",
    "\n",
    "def load_mnist(filename):\n",
    "    f = gzip.open(filename, 'rb')\n",
    "    train_set, valid_set, test_set = cPickle.load(f, encoding='iso-8859-1')\n",
    "    f.close()\n",
    "    X = np.vstack((train_set[0],valid_set[0]))\n",
    "    y = np.hstack((train_set[1],valid_set[1]))\n",
    "    X_test = test_set[0]\n",
    "    y_test = test_set[1]\n",
    "    return X,y,X_test,y_test\n",
    "\n",
    "# load the MNIST archive\n",
    "X,y,X_test,y_test = load_mnist(\"mnist.pkl.gz\")"
   ]
  },
  {
   "cell_type": "markdown",
   "metadata": {},
   "source": [
    "### Question2:\n",
    "* Reshape `X` and `X_test` so that they have shape (60000,28,28,1) and (10000,28,28,1) respectively.\n"
   ]
  },
  {
   "cell_type": "code",
   "execution_count": 543,
   "metadata": {},
   "outputs": [
    {
     "name": "stdout",
     "output_type": "stream",
     "text": [
      "New shape of the X :  (60000, 28, 28, 1)\n",
      "New shape of the X_test :  (10000, 28, 28, 1)\n"
     ]
    }
   ],
   "source": [
    "X = np.reshape(X, (60000,28,28,1))\n",
    "X_test = np.reshape(X_test, (10000,28,28,1))\n",
    "\n",
    "print(\"New shape of the X : \", X.shape)\n",
    "print(\"New shape of the X_test : \", X_test.shape)"
   ]
  },
  {
   "cell_type": "markdown",
   "metadata": {},
   "source": [
    "We can now begin to build the CNN. At the start of the `TensorFlow` graph we need to define data containers, i.e. instances of `tf.placeholder`. We will use mini-batch gradient descent to optimize the NN parameters and we want the code to be modular so we cannot specify the first dimension of the tensor containing training examples. `TensorFlow` allows this :"
   ]
  },
  {
   "cell_type": "code",
   "execution_count": 544,
   "metadata": {},
   "outputs": [
    {
     "data": {
      "text/plain": [
       "TensorShape([Dimension(None), Dimension(28), Dimension(28), Dimension(1)])"
      ]
     },
     "execution_count": 544,
     "metadata": {},
     "output_type": "execute_result"
    }
   ],
   "source": [
    "Xtf = tf.placeholder(tf.float32,shape=[None, X.shape[1], X.shape[2],1])\n",
    "ytf = tf.placeholder(tf.int64,shape=[None, ])\n",
    "Xtf.shape"
   ]
  },
  {
   "cell_type": "markdown",
   "metadata": {},
   "source": [
    "The next element of our NN is a 2D convolutional layer. We can use an instance of the `tf.layers.conv2d` class. We need to specify that a `tf.placeholder` instance is the input, the number of size of filters (kernels) that we want, how to deal with image borders (padding) and what activation we would like. This gives:"
   ]
  },
  {
   "cell_type": "code",
   "execution_count": 545,
   "metadata": {},
   "outputs": [
    {
     "data": {
      "text/plain": [
       "TensorShape([Dimension(None), Dimension(28), Dimension(28), Dimension(64)])"
      ]
     },
     "execution_count": 545,
     "metadata": {},
     "output_type": "execute_result"
    }
   ],
   "source": [
    "# Convolutional Layer #1\n",
    "conv1 = tf.layers.conv2d(\n",
    "      inputs=Xtf,\n",
    "      filters=64,\n",
    "      kernel_size=[5, 5],\n",
    "      padding=\"same\",\n",
    "      activation=tf.nn.relu)\n",
    "conv1.shape"
   ]
  },
  {
   "cell_type": "markdown",
   "metadata": {},
   "source": [
    "Next, we need a pooling layer to give up some entries of the filtered images provided by the convolutional layer. We will use the usual **max pool function** in 2x2 neighborhoods which drops 3 entries out of 4 in each such neighborhood. The remaining entry is the one achieving maximal value in the neighborhood."
   ]
  },
  {
   "cell_type": "markdown",
   "metadata": {},
   "source": [
    "### Question3 :\n",
    "* What is the role of parameter `strides` ? \n",
    "* What is the size of each feature map after max pooling ?\n",
    "* How many feature maps are there ? "
   ]
  },
  {
   "cell_type": "markdown",
   "metadata": {},
   "source": [
    "#### <font color='blue'> 3.1) What is the role of parameter strides ?"
   ]
  },
  {
   "cell_type": "code",
   "execution_count": 546,
   "metadata": {},
   "outputs": [],
   "source": [
    "# Pooling Layer #1\n",
    "pool1 = tf.layers.max_pooling2d(inputs=conv1, pool_size=[2, 2], strides=2)"
   ]
  },
  {
   "cell_type": "markdown",
   "metadata": {},
   "source": [
    "* <font color=\"#80000\"> The parameter \"strides\" represents the step size, which is used in the **sub-sampling layers** operation used to unroll the input set."
   ]
  },
  {
   "cell_type": "markdown",
   "metadata": {},
   "source": [
    "#### <font color='blue'>3.2) What is the size of each feature map after max pooling ?"
   ]
  },
  {
   "cell_type": "code",
   "execution_count": 547,
   "metadata": {},
   "outputs": [
    {
     "name": "stdout",
     "output_type": "stream",
     "text": [
      "The dimensions of the feature map after max-polling are : heigth = 14 and width = 14\n"
     ]
    }
   ],
   "source": [
    "nbr_samples,heigth,width,nbr_filters=pool1.shape\n",
    "print(\"The dimensions of the feature map after max-polling are : heigth = {heigth} and width = {width}\".format(heigth=heigth, width=width))"
   ]
  },
  {
   "cell_type": "markdown",
   "metadata": {},
   "source": [
    "#### <font color='blue'>3.3) How many feature maps are there ?"
   ]
  },
  {
   "cell_type": "markdown",
   "metadata": {},
   "source": [
    "* <font color=\"#80000\"> The number of feature maps is exactly the number of filters we used in the convolution, since the pooling is done on each feature map and does thus does not affect the number of feature which is $64$."
   ]
  },
  {
   "cell_type": "markdown",
   "metadata": {},
   "source": [
    "### Before getting to the second part, let have a look at the effect of the convolution and the sub-sampling on a test image :"
   ]
  },
  {
   "cell_type": "code",
   "execution_count": 548,
   "metadata": {},
   "outputs": [],
   "source": [
    "# upload a test image\n",
    "testImage=X_test[1]\n",
    "test = tf.Session()\n",
    "test.run(tf.global_variables_initializer())\n",
    "testImageAfterConv1 = test.run(conv1, feed_dict={Xtf: np.reshape(testImage, (1,28,28,1))})\n",
    "testImageAfterPool1 = test.run(pool1, feed_dict={Xtf: np.reshape(testImage, (1,28,28,1))})"
   ]
  },
  {
   "cell_type": "code",
   "execution_count": 549,
   "metadata": {},
   "outputs": [
    {
     "data": {
      "image/png": "[encoded data removed]",
      "text/plain": [
       "<Figure size 432x288 with 1 Axes>"
      ]
     },
     "metadata": {
      "needs_background": "light"
     },
     "output_type": "display_data"
    }
   ],
   "source": [
    "# test image on its input format\n",
    "plt.imshow(testImage.reshape(28,28),cmap='gray')\n",
    "plt.title(\"Test image before entering the CNN\")\n",
    "plt.show()"
   ]
  },
  {
   "cell_type": "code",
   "execution_count": 550,
   "metadata": {},
   "outputs": [
    {
     "data": {
      "image/png": "[encoded data removed]",
      "text/plain": [
       "<Figure size 720x720 with 16 Axes>"
      ]
     },
     "metadata": {
      "needs_background": "light"
     },
     "output_type": "display_data"
    }
   ],
   "source": [
    "from displayImages import display2dImages\n",
    "# Some feature maps after applying the first convolution to the test image\n",
    "display2dImages(imagesSet=testImageAfterConv1,tupleImages=(4,4), figsize=(10,10))"
   ]
  },
  {
   "cell_type": "markdown",
   "metadata": {},
   "source": [
    "* <font color=\"#80000\"> With the first convolution, we already see that some feature paterns are extracted. We can not assume the interest of some patterns directely, but we can notice that some feature maps point to some particular patterns, like the edges of the digit and in general its shape.  "
   ]
  },
  {
   "cell_type": "code",
   "execution_count": 551,
   "metadata": {},
   "outputs": [
    {
     "data": {
      "image/png": "[encoded data removed]",
      "text/plain": [
       "<Figure size 720x720 with 16 Axes>"
      ]
     },
     "metadata": {
      "needs_background": "light"
     },
     "output_type": "display_data"
    }
   ],
   "source": [
    "from displayImages import display2dImages\n",
    "# Some feature maps after applying the pooling to the first convolution feature maps\n",
    "display2dImages(imagesSet=testImageAfterPool1,tupleImages=(4,4), figsize=(10,10))"
   ]
  },
  {
   "cell_type": "markdown",
   "metadata": {},
   "source": [
    "* <font color=\"#80000\"> We can notice that the pooling conserves the general effect of the convolution feature maps and produces more general features and so patterns. Thus, the pooling avoids the the eventual overfitting of the neural network by picking more generic features from the results of the convolution step. This makes one of the reasons the CNNs are too powerfull till they inherently taking into consideration the tradeoff between minimizing the training error and minimizing the expected gap between the training error and the test error, by applying a kind of structural regularization of the neural network. (This tradeoff is well explained in the scientific paper : **Gradient Based Learning Applied To Document Recognition by Yann LeCun** \"https://ieeexplore.ieee.org/abstract/document/726791\")  "
   ]
  },
  {
   "cell_type": "markdown",
   "metadata": {},
   "source": [
    "\n",
    "#### We will now plug a 1 layer MLP on top of this. Fully connected layers (or dense layers) do not accept `numpy ndarrays`. We can use `tf.reshape` to flatten feature maps. In the following code the scalar `dflat` = nbr of feature maps x feature map width x feature map height. Set this variable with the correct value and execute the following code line:"
   ]
  },
  {
   "cell_type": "code",
   "execution_count": 552,
   "metadata": {},
   "outputs": [
    {
     "data": {
      "text/plain": [
       "TensorShape([Dimension(None), Dimension(12544)])"
      ]
     },
     "execution_count": 552,
     "metadata": {},
     "output_type": "execute_result"
    }
   ],
   "source": [
    "# flatten the feature maps \n",
    "dflat = nbr_filters*width*heigth\n",
    "pool2_flat = tf.reshape(pool1, [-1, dflat])\n",
    "pool2_flat.shape"
   ]
  },
  {
   "cell_type": "markdown",
   "metadata": {},
   "source": [
    "Now the one layer MLP is given by an instance of `tf.layers.dense` as:"
   ]
  },
  {
   "cell_type": "code",
   "execution_count": 553,
   "metadata": {},
   "outputs": [],
   "source": [
    "mlp = tf.layers.dense(inputs=pool2_flat, units=1024, activation=tf.nn.relu)"
   ]
  },
  {
   "cell_type": "markdown",
   "metadata": {},
   "source": [
    "Finally, we need a softmax regression function to obtain class membership probabilities. This can be done in this way:"
   ]
  },
  {
   "cell_type": "code",
   "execution_count": 554,
   "metadata": {},
   "outputs": [],
   "source": [
    "logits = tf.layers.dense(inputs=mlp, units=10)\n",
    "smax = tf.nn.softmax(logits)"
   ]
  },
  {
   "cell_type": "markdown",
   "metadata": {},
   "source": [
    "### Question4 :\n",
    "* How many parameters is there in our NN ?\n",
    "\n",
    "<font color=\"#80000\"> So far there are 5 parameters for the the NN if we consider the pooled model as one parameter (The input). The other parameters are :\n",
    "* Units\n",
    "* Activation function for the MLP\n",
    "* The regression function at the output layer\n",
    "* The loss function (defined below)\n",
    "    \n",
    "For the input (pooled model) we have the following 8 parameters :\n",
    "* The learning rate\n",
    "* Number of strides\n",
    "* The pool size parameter \n",
    "* The batch size\n",
    "* Number of filters\n",
    "* Filter sizes\n",
    "* Activiation functions\n",
    "* Padding types\n",
    "\n",
    "**This makes the CNN too much modular given a lot of parameters which might imply a lot of time for the tuning**"
   ]
  },
  {
   "cell_type": "markdown",
   "metadata": {},
   "source": [
    "Actually, the utimate element of the `TensorFlow` graph is the loss. In softmax (or logistic) regression, the corresponding loss is the cross entropy. A numerically stable version of this loss is given by `tf.losses.sparse_softmax_cross_entropy`:"
   ]
  },
  {
   "cell_type": "code",
   "execution_count": 555,
   "metadata": {},
   "outputs": [],
   "source": [
    "loss = tf.losses.sparse_softmax_cross_entropy(labels=ytf, logits=logits)"
   ]
  },
  {
   "cell_type": "markdown",
   "metadata": {},
   "source": [
    "Now that we have completed the graph, we can move to the next phase: actually training the NN. Prior to entering the training loop, we need to instantiate an optimizer from `TensorFlow` and ask him to minimize the loss. We will use the ADAM optimizer which is robust and easy to tune."
   ]
  },
  {
   "cell_type": "code",
   "execution_count": 556,
   "metadata": {},
   "outputs": [],
   "source": [
    "learning_rate = 0.01\n",
    "optimizer = tf.train.AdamOptimizer(learning_rate)\n",
    "training_op = optimizer.minimize(loss)"
   ]
  },
  {
   "cell_type": "markdown",
   "metadata": {},
   "source": [
    "An initializer has also been instantiated. Indeed parameters are hidden in instances of our NN layers but they need initialization anyway.\n",
    "\n",
    "We can now begin to iterate on training examples. We will select mini-batches of training examples. Once each training example has been processed as part of the backpropagation algorithm, a training epoch is completed. It is quite common to iterate on epochs, and in each epoch on mini-batches. \n",
    "\n",
    "The following code lines are in line with this habit. There are only two lines to complete to make it work. They correpond to the selection of training examples in each mini-batch. \n",
    "\n",
    "### Question5 :\n",
    "* Fulfill correctly the missing parts of these instructions.\n",
    "**Warning** : the execution of the loop takes around 5mn. The gradient descent should achieve approximately a 0.13 loss or below (remember this is stochastic)."
   ]
  },
  {
   "cell_type": "code",
   "execution_count": 66,
   "metadata": {
    "scrolled": true
   },
   "outputs": [
    {
     "name": "stdout",
     "output_type": "stream",
     "text": [
      "0 Train loss: 0.1097685\n",
      "1 Train loss: 0.11454113\n"
     ]
    }
   ],
   "source": [
    "n=y.shape[0]\n",
    "n_epochs = 2\n",
    "batch_size = 150\n",
    "\n",
    "with tf.Session() as sess:\n",
    "    init.run()\n",
    "    for epoch in range(n_epochs):\n",
    "        n_batches = n // batch_size\n",
    "        for iteration in range(n_batches):\n",
    "            print(\"\\r{}%\".format(100 * iteration // n_batches), end=\"\")\n",
    "            sys.stdout.flush()\n",
    "            X_batch = X[iteration*batch_size:(iteration+1)*batch_size] # Specifying the input batch \n",
    "            y_batch = y[iteration*batch_size:(iteration+1)*batch_size] # Specifying the target batch\n",
    "            sess.run(training_op, feed_dict={Xtf: X_batch,ytf: y_batch})\n",
    "        loss_train = loss.eval(feed_dict={Xtf: X_batch,ytf: y_batch})\n",
    "        print(\"\\r{}\".format(epoch), \"Train loss:\", loss_train)"
   ]
  },
  {
   "cell_type": "markdown",
   "metadata": {},
   "source": [
    "### Question6 :\n",
    "* Document yourselves on means to compute the classifier accuracy using `TensorFlow` functions. \n",
    "* Add the corresponding functions to the graph.\n",
    "* Modify the loop to evaluate the classifier accuracy on the test set. \n",
    "* Comment on the quality of the learning."
   ]
  },
  {
   "cell_type": "markdown",
   "metadata": {},
   "source": [
    "<font color=\"#80000\"> **Documentation results :**  We found various ways to compute the accuracy with tensorflow. One way (the one we use below) is to first add the **argmax** function to the graph till the output of the CNN are probabilities of the input being equal to a given digit in $\\{0,1,...,9\\}$. Therefore this function role is to return the digit with the highest probability. Later we add the accuracy metrique of tensorflow, which, given the labels and the predictions computes the accuracy."
   ]
  },
  {
   "cell_type": "code",
   "execution_count": 557,
   "metadata": {},
   "outputs": [],
   "source": [
    "# adding the argmax function to the graph\n",
    "argma=tf.argmax(input=smax,axis=1)"
   ]
  },
  {
   "cell_type": "code",
   "execution_count": 558,
   "metadata": {},
   "outputs": [],
   "source": [
    "# adding the accuracy function to the graph\n",
    "accuracy=tf.metrics.accuracy(labels=ytf, predictions=argma)\n",
    "\n",
    "init = tf.global_variables_initializer()\n",
    "init_l = tf.local_variables_initializer()"
   ]
  },
  {
   "cell_type": "code",
   "execution_count": 172,
   "metadata": {},
   "outputs": [
    {
     "name": "stdout",
     "output_type": "stream",
     "text": [
      "1 Train loss: 0.114613205\n",
      "The accuracy of the model this epoch is : 96.56000137329102 %\n",
      "\n",
      "2 Train loss: 0.09727109\n",
      "The accuracy of the model this epoch is : 97.18999862670898 %\n",
      "\n"
     ]
    }
   ],
   "source": [
    "# The modified training and testing process, which includes the accuracy's computation for each epoch\n",
    "n=y.shape[0]\n",
    "n_epochs = 2\n",
    "batch_size = 150\n",
    "\n",
    "with tf.Session() as sess:\n",
    "    init.run()\n",
    "    init_l.run()\n",
    "    for epoch in range(n_epochs):\n",
    "        n_batches = n // batch_size\n",
    "        for iteration in range(n_batches):\n",
    "            print(\"\\r{}%\".format(100 * iteration // n_batches), end=\"\")\n",
    "            sys.stdout.flush()\n",
    "            X_batch = X[iteration*batch_size:(iteration+1)*batch_size] # Specifying the input batch \n",
    "            y_batch = y[iteration*batch_size:(iteration+1)*batch_size] # Specifying the target batch\n",
    "            sess.run(training_op, feed_dict={Xtf: X_batch,ytf: y_batch})\n",
    "        loss_train = loss.eval(feed_dict={Xtf: X_batch,ytf: y_batch})\n",
    "        feed_dict_test = {Xtf: X_test, ytf:y_test}\n",
    "        model_accuracy=sess.run(accuracy, feed_dict_test)\n",
    "        print(\"\\r{}\".format(epoch+1), \"Train loss:\", loss_train)\n",
    "        print(\"The accuracy of the model for epoch number {ep} is : {ac} %\\n\".format(ep=epoch+1,ac=model_accuracy[1]*100))"
   ]
  },
  {
   "cell_type": "markdown",
   "metadata": {},
   "source": [
    "<font color=\"#80000\"> **Comments :** We clearly have obtained a high accuracy level (~97 %) on the test set. This confirms the Convolution Neural Networks powerfull approach in pattern recognition applied to digits. We might like to use the cross validation to confirm the stability of the generalization error, but the computation takes too long. With the same set of hyperparameters, we just launched the process three times with different test sets and verified that this accuracy is stable and does slightly change (if drastically : 0.5 %)  around 97% .    "
   ]
  },
  {
   "cell_type": "markdown",
   "metadata": {},
   "source": [
    "### Question7 :\n",
    "* Add a second pair of conv/pool layers. A smaller amount of filters and smaller filters are recommended."
   ]
  },
  {
   "cell_type": "code",
   "execution_count": 606,
   "metadata": {},
   "outputs": [
    {
     "data": {
      "text/plain": [
       "TensorShape([Dimension(None), Dimension(14), Dimension(14), Dimension(20)])"
      ]
     },
     "execution_count": 606,
     "metadata": {},
     "output_type": "execute_result"
    }
   ],
   "source": [
    "# Convolutional Layer #2\n",
    "nbr_filters=20\n",
    "conv2 = tf.layers.conv2d(\n",
    "      inputs=pool1,\n",
    "      filters=nbr_filters,\n",
    "      kernel_size=[5, 5],\n",
    "      padding=\"same\",\n",
    "      activation=tf.nn.relu)\n",
    "conv2.shape"
   ]
  },
  {
   "cell_type": "code",
   "execution_count": 607,
   "metadata": {},
   "outputs": [],
   "source": [
    "# Pooling Layer #2\n",
    "pool2 = tf.layers.max_pooling2d(inputs=conv2, pool_size=[2, 2], strides=2)\n",
    "nbr_samples_2,heigth_2,width_2,nbr_filters_2=pool2.shape"
   ]
  },
  {
   "cell_type": "code",
   "execution_count": 608,
   "metadata": {},
   "outputs": [
    {
     "data": {
      "text/plain": [
       "TensorShape([Dimension(None), Dimension(980)])"
      ]
     },
     "execution_count": 608,
     "metadata": {},
     "output_type": "execute_result"
    }
   ],
   "source": [
    "# flatten the feature maps \n",
    "dflat_2 = nbr_filters_2*width_2*heigth_2\n",
    "pool2_flat_2 = tf.reshape(pool2, [-1, dflat_2])\n",
    "pool2_flat_2.shape"
   ]
  },
  {
   "cell_type": "markdown",
   "metadata": {},
   "source": [
    "### Question8 :\n",
    "* Add a second fully connected layer. A smaller number of units is recommended."
   ]
  },
  {
   "cell_type": "code",
   "execution_count": 609,
   "metadata": {},
   "outputs": [
    {
     "data": {
      "text/plain": [
       "TensorShape([Dimension(None), Dimension(1024)])"
      ]
     },
     "execution_count": 609,
     "metadata": {},
     "output_type": "execute_result"
    }
   ],
   "source": [
    "# Add the first fully connected NN (already used above)\n",
    "nbUnitsMlp1=1024\n",
    "mlp = tf.layers.dense(inputs=pool2_flat_2, units=nbUnitsMlp1, activation=tf.nn.relu)\n",
    "mlp.shape"
   ]
  },
  {
   "cell_type": "code",
   "execution_count": 610,
   "metadata": {},
   "outputs": [
    {
     "data": {
      "text/plain": [
       "TensorShape([Dimension(None), Dimension(500)])"
      ]
     },
     "execution_count": 610,
     "metadata": {},
     "output_type": "execute_result"
    }
   ],
   "source": [
    "# Adding the second fully connected NN with less number of units 500\n",
    "nbUnitsMlp2=500\n",
    "mlp_2 = tf.layers.dense(inputs=mlp, units = nbUnitsMlp2, activation=tf.nn.relu)\n",
    "mlp_2.shape"
   ]
  },
  {
   "cell_type": "code",
   "execution_count": 611,
   "metadata": {},
   "outputs": [],
   "source": [
    "# set softmax regression function\n",
    "logits_2 = tf.layers.dense(inputs=mlp_2, units=10)\n",
    "smax_2 = tf.nn.softmax(logits_2)"
   ]
  },
  {
   "cell_type": "code",
   "execution_count": 612,
   "metadata": {},
   "outputs": [],
   "source": [
    "# Redefine the loss for the new CNN\n",
    "loss_2 = tf.losses.sparse_softmax_cross_entropy(labels=ytf, logits=logits_2)"
   ]
  },
  {
   "cell_type": "code",
   "execution_count": 613,
   "metadata": {},
   "outputs": [],
   "source": [
    "# Set the training process (minimizer of the loss)\n",
    "learning_rate = 0.01\n",
    "optimizer_2 = tf.train.AdamOptimizer(learning_rate)\n",
    "training_op_2 = optimizer.minimize(loss_2)"
   ]
  },
  {
   "cell_type": "code",
   "execution_count": 614,
   "metadata": {},
   "outputs": [],
   "source": [
    "# Reset the accuracy for the new CNN\n",
    "argma_2=tf.argmax(input=smax_2,axis=1)\n",
    "\n",
    "accuracy_2=tf.metrics.accuracy(labels=ytf, predictions=argma_2)\n",
    "\n",
    "init_2 = tf.global_variables_initializer()\n",
    "init_3 = tf.local_variables_initializer()"
   ]
  },
  {
   "cell_type": "markdown",
   "metadata": {},
   "source": [
    "### Question9 :\n",
    "From the above NN architecture, try to tweak the other hyperparameters. These latter include:\n",
    "* the learning rate,\n",
    "* the mini batch size,\n",
    "* the regularization strength (if regularization is activated),\n",
    "* number of filters,\n",
    "* filter sizes,\n",
    "* activiation functions,\n",
    "* strides,\n",
    "* padding types,\n",
    "* ..."
   ]
  },
  {
   "cell_type": "markdown",
   "metadata": {},
   "source": [
    "<font color=\"#80000\"> **Given the computation time of the model, we studied three hyperparameters : The learning rate, the batch size and the activation functions, using small number of epochs, till we only want to know the general trending of the model's performance when we change those hyperparameters.**"
   ]
  },
  {
   "cell_type": "code",
   "execution_count": 600,
   "metadata": {},
   "outputs": [
    {
     "name": "stdout",
     "output_type": "stream",
     "text": [
      "1 Train loss: 0.10081227\n",
      "The accuracy of the model for epoch number 1 is : 97.58999943733215 %\n",
      "\n"
     ]
    }
   ],
   "source": [
    "n=y.shape[0]\n",
    "n_epochs = 1\n",
    "batch_size = 150\n",
    "\n",
    "with tf.Session() as sess:\n",
    "    init_2.run()\n",
    "    init_3.run()\n",
    "    for epoch in range(n_epochs):\n",
    "        n_batches = n // batch_size\n",
    "        for iteration in range(n_batches):\n",
    "            print(\"\\r{}%\".format(100 * iteration // n_batches), end=\"\")\n",
    "            sys.stdout.flush()\n",
    "            X_batch = X[iteration*batch_size:(iteration+1)*batch_size] # Specifying the input batch \n",
    "            y_batch = y[iteration*batch_size:(iteration+1)*batch_size] # Specifying the target batch\n",
    "            sess.run(training_op_2, feed_dict={Xtf: X_batch,ytf: y_batch})\n",
    "        loss_train_2 = loss_2.eval(feed_dict={Xtf: X_batch,ytf: y_batch})\n",
    "        feed_dict_test_2 = {Xtf: X_test, ytf:y_test}\n",
    "        model_accuracy_2=sess.run(accuracy_2, feed_dict_test_2)\n",
    "        print(\"\\r{}\".format(epoch+1), \"Train loss:\", loss_train)\n",
    "        print(\"The accuracy of the model for epoch number {ep} is : {ac} %\\n\".format(ep=epoch+1,ac=model_accuracy_2[1]*100))"
   ]
  },
  {
   "cell_type": "markdown",
   "metadata": {},
   "source": [
    "<font color=\"#80000\"> **Comments :** Having added others layers of convolution, pooling and two NN fully connected layers instead of one, we see that the test error (approximating the generalization error) has slightely changed. We can not assume  that the generalization error is also the same, beacuse we need to make a cross validation to do so, but we can postulate that this new model needs more regularization that the first one to avoid the eventual overfitting given the fully connected neural networks we introduced before the output layer. "
   ]
  },
  {
   "cell_type": "code",
   "execution_count": 615,
   "metadata": {},
   "outputs": [],
   "source": [
    "# We define below a generic function to compute the train loss and the accuracy\n",
    "def LossAndAccuracy(training_op=training_op_2,logits=logits_2, loss=loss_2, batch_size=150, accuracy=accuracy_2):\n",
    "    with tf.Session() as sess:\n",
    "        tf.global_variables_initializer().run()\n",
    "        tf.local_variables_initializer().run()\n",
    "        n_batches = n // batch_size\n",
    "        for iteration in range(n_batches):\n",
    "            print(\"\\r{}%\".format(100 * iteration // n_batches), end=\"\")\n",
    "            sys.stdout.flush()\n",
    "            X_batch = X[iteration*batch_size:(iteration+1)*batch_size] # Specifying the input batch \n",
    "            y_batch = y[iteration*batch_size:(iteration+1)*batch_size] # Specifying the target batch\n",
    "            sess.run(training_op, feed_dict={Xtf: X_batch,ytf: y_batch})\n",
    "        loss_train_2 = loss.eval(feed_dict={Xtf: X_batch,ytf: y_batch})\n",
    "        feed_dict_test_2 = {Xtf: X_test, ytf:y_test}\n",
    "        model_accuracy_2=sess.run(accuracy, feed_dict_test_2)\n",
    "        return loss_train_2, model_accuracy_2[1]"
   ]
  },
  {
   "cell_type": "markdown",
   "metadata": {},
   "source": [
    "* ### (1) the learning rate :"
   ]
  },
  {
   "cell_type": "code",
   "execution_count": 602,
   "metadata": {},
   "outputs": [
    {
     "name": "stdout",
     "output_type": "stream",
     "text": [
      "99%"
     ]
    }
   ],
   "source": [
    "learningRates=[1,0.1,0.001]\n",
    "CnnAccuracies1, loss_trains1=[],[]\n",
    "for rate in learningRates:\n",
    "    optimizer = tf.train.AdamOptimizer(rate)\n",
    "    training_op = optimizer.minimize(loss_2)\n",
    "    lossEr, Accur = LossAndAccuracy(training_op)\n",
    "    loss_trains1.append(lossEr)\n",
    "    CnnAccuracies1.append(Accur)"
   ]
  },
  {
   "cell_type": "code",
   "execution_count": 603,
   "metadata": {},
   "outputs": [
    {
     "data": {
      "image/png": "[encoded data removed]",
      "text/plain": [
       "<Figure size 936x360 with 2 Axes>"
      ]
     },
     "metadata": {
      "needs_background": "light"
     },
     "output_type": "display_data"
    }
   ],
   "source": [
    "plt.figure(figsize=(13,5))\n",
    "plt.title(\"Accuracy and Train Loss varaition with the learning rate\")\n",
    "plt.xlabel(\"Learning rate\")\n",
    "plt.subplot(121)\n",
    "plt.plot(learningRates, loss_trains1, label=\"Train Loss\")\n",
    "plt.legend()\n",
    "plt.subplot(122)\n",
    "plt.plot(learningRates, CnnAccuracies1, label=\"Accuracy\")\n",
    "plt.legend()\n",
    "plt.show()"
   ]
  },
  {
   "cell_type": "markdown",
   "metadata": {},
   "source": [
    "<font color=\"#80000\"> **Comments :** We clearly see that the learning rate affects dramaticcaly the learning. For bigger values, the model gives a very bad accuracy. Therfore, the smaller the learning rate the better is the accuracy of the model. We even obtain a better accuracy with learning rate of $0.001$ we obtain an accuracy of ~$98\\%$ which is better than our first model's accuracy."
   ]
  },
  {
   "cell_type": "markdown",
   "metadata": {},
   "source": [
    "* ### (2) the batch size :"
   ]
  },
  {
   "cell_type": "code",
   "execution_count": 616,
   "metadata": {},
   "outputs": [
    {
     "name": "stdout",
     "output_type": "stream",
     "text": [
      "98%"
     ]
    }
   ],
   "source": [
    "batch_sizes=[50,500,1000]\n",
    "CnnAccuracies2, loss_trains2=[],[]\n",
    "for batch in batch_sizes:\n",
    "    lossEr, Accur = LossAndAccuracy(batch_size=batch)\n",
    "    loss_trains2.append(lossEr)\n",
    "    CnnAccuracies2.append(Accur)"
   ]
  },
  {
   "cell_type": "code",
   "execution_count": 620,
   "metadata": {},
   "outputs": [
    {
     "data": {
      "image/png": "[encoded data removed]",
      "text/plain": [
       "<Figure size 936x360 with 2 Axes>"
      ]
     },
     "metadata": {
      "needs_background": "light"
     },
     "output_type": "display_data"
    }
   ],
   "source": [
    "plt.figure(figsize=(13,5))\n",
    "plt.title(\"Accuracy and Train Loss varaition with the learning rate\")\n",
    "plt.xlabel(\"Learning rate\")\n",
    "plt.subplot(121)\n",
    "plt.plot(batch_sizes, loss_trains2, label=\"Train Loss\")\n",
    "plt.legend()\n",
    "plt.subplot(122)\n",
    "plt.plot(batch_sizes, CnnAccuracies2, label=\"Accuracy\")\n",
    "plt.legend()\n",
    "plt.show()"
   ]
  },
  {
   "cell_type": "markdown",
   "metadata": {},
   "source": [
    "<font color=\"#80000\"> **Comments :** We see that the accuracy raised slightely when we compare a bach size of 50 to 500 ($97.69\\%$ to $97.96\\%$) but decreased to $96.06\\%$ with 1000 as a bach size. Therefore, we might postulate that there is an optimal value for the bach size that raises slightely the performance of the CNN."
   ]
  },
  {
   "cell_type": "markdown",
   "metadata": {},
   "source": [
    "* ### (3) Activation function :"
   ]
  },
  {
   "cell_type": "code",
   "execution_count": 626,
   "metadata": {},
   "outputs": [
    {
     "name": "stdout",
     "output_type": "stream",
     "text": [
      "99%"
     ]
    }
   ],
   "source": [
    "activiation_funcs=[tf.sigmoid, tf.nn.selu, tf.tanh]\n",
    "\n",
    "CnnAccuracies3, loss_trains3=[],[]\n",
    "for act in activiation_funcs:\n",
    "    # Add the first fully connected NN (already used above)\n",
    "    nbUnitsMlp1=1024\n",
    "    mlp_act = tf.layers.dense(inputs=pool2_flat_2, units=nbUnitsMlp1, activation=act)\n",
    "    # Adding the second fully connected NN with less number of units 100\n",
    "    nbUnitsMlp2=500\n",
    "    mlp_2_act = tf.layers.dense(inputs=mlp_act, units = nbUnitsMlp2, activation=act)\n",
    "    # set softmax regression function\n",
    "    logits_act = tf.layers.dense(inputs=mlp_2_act, units=10)\n",
    "    smax_act = tf.nn.softmax(logits_act)\n",
    "    # Redefine the loss for the new CNN\n",
    "    loss_act = tf.losses.sparse_softmax_cross_entropy(labels=ytf, logits=logits_act)\n",
    "    # Set the training process (minimizer of the loss)\n",
    "    learning_rate = 0.01\n",
    "    optimizer_act = tf.train.AdamOptimizer(learning_rate)\n",
    "    training_op_act = optimizer.minimize(loss_act)\n",
    "    # Reset the accuracy for the new CNN\n",
    "    argma_act=tf.argmax(input=smax_act,axis=1)\n",
    "\n",
    "    accuracy_act=tf.metrics.accuracy(labels=ytf, predictions=argma_act)\n",
    "\n",
    "    init_act1 = tf.global_variables_initializer()\n",
    "    init_act2 = tf.local_variables_initializer()\n",
    "    \n",
    "    n=y.shape[0]\n",
    "    n_epochs = 1\n",
    "    batch_size = 150\n",
    "\n",
    "    with tf.Session() as sess:\n",
    "        init_act1.run()\n",
    "        init_act2.run()\n",
    "        for epoch in range(n_epochs):\n",
    "            n_batches = n // batch_size\n",
    "            for iteration in range(n_batches):\n",
    "                print(\"\\r{}%\".format(100 * iteration // n_batches), end=\"\")\n",
    "                sys.stdout.flush()\n",
    "                X_batch = X[iteration*batch_size:(iteration+1)*batch_size] # Specifying the input batch \n",
    "                y_batch = y[iteration*batch_size:(iteration+1)*batch_size] # Specifying the target batch\n",
    "                sess.run(training_op_act, feed_dict={Xtf: X_batch,ytf: y_batch})\n",
    "            loss_train_act = loss_act.eval(feed_dict={Xtf: X_batch,ytf: y_batch})\n",
    "            feed_dict_test_act = {Xtf: X_test, ytf:y_test}\n",
    "            model_accuracy_act=sess.run(accuracy_act, feed_dict_test_act)\n",
    "            CnnAccuracies3.append(model_accuracy_act[1])\n",
    "            loss_trains3.append(loss_train_act)"
   ]
  },
  {
   "cell_type": "code",
   "execution_count": 627,
   "metadata": {},
   "outputs": [
    {
     "name": "stdout",
     "output_type": "stream",
     "text": [
      "The accuracy unsing the \"sigmoid\" activation function is : 97.4399983882904%\n",
      "The train loss is : 0.10328179597854614% \n",
      "\n",
      "The accuracy unsing the \"selu\" activation function is : 98.29999804496765%\n",
      "The train loss is : 0.14770980179309845% \n",
      "\n",
      "The accuracy unsing the \"tanh\" activation function is : 98.43999743461609%\n",
      "The train loss is : 0.14926908910274506% \n",
      "\n"
     ]
    }
   ],
   "source": [
    "activfuncs=[\"sigmoid\", \"selu\", \"tanh\"]\n",
    "for i in range(3):\n",
    "    print(\"The accuracy unsing the \\\"{fct}\\\" activation function is : {accu}%\".format(fct=activfuncs[i],accu=CnnAccuracies3[i]*100))\n",
    "    print(\"The train loss is : {}% \\n\".format(loss_trains3[i]))"
   ]
  },
  {
   "cell_type": "markdown",
   "metadata": {},
   "source": [
    "<font color=\"#80000\"> **Comments :** We have obtained defenet values of accuracies for each activation function that are slightly close between each other and to the **relu** we already used. Having used one epoch we can not draw final conclusions, but we already see that they all give good results with **tanh** having the best performance for this particular simulation. Thus, the choice of the activation function is not of o very direct effect on the performance of the CNN, but we still may need to tune this parameter too for higher number of layers. "
   ]
  },
  {
   "cell_type": "markdown",
   "metadata": {},
   "source": [
    "### Question10 :\n",
    "* Compare the obtained accuracy to that of a regularized Softmax regression from `sklearn`."
   ]
  },
  {
   "cell_type": "code",
   "execution_count": 235,
   "metadata": {},
   "outputs": [],
   "source": [
    "# data sets preparation\n",
    "inter=np.arange(len(y))\n",
    "np.random.shuffle(inter) #shuffle the data set to \n",
    "train, test = np.split(inter, [int(0.67 * n)])\n",
    "\n",
    "X_log=np.reshape(X, (X.shape[0],-1))\n",
    "X_train, X_test=X_log[train], X_log[test]\n",
    "y_train, y_test=y[train], y[test]"
   ]
  },
  {
   "cell_type": "code",
   "execution_count": 236,
   "metadata": {},
   "outputs": [
    {
     "name": "stdout",
     "output_type": "stream",
     "text": [
      "The accuracy of the Softmax regression when using \"newton-cg\" as a solver is : 91.82323232323232 %\n",
      "The accuracy of the Softmax regression when using \"sag\" as a solver is : 91.86363636363636 %\n",
      "The accuracy of the Softmax regression when using \"saga\" as a solver is : 91.98484848484848 %\n",
      "The accuracy of the Softmax regression when using \"lbfgs\" as a solver is : 91.88383838383838 %\n"
     ]
    }
   ],
   "source": [
    "from sklearn.linear_model import LogisticRegression\n",
    "\n",
    "train, test = np.split(X, [int(0.67 * n)])\n",
    "\n",
    "solvers=[\"newton-cg\", \"sag\", \"saga\", \"lbfgs\"]\n",
    "# training of softmax regression and test of performances\n",
    "for solver in solvers :\n",
    "    softmax_model = LogisticRegression(penalty=\"l2\", solver=solver, max_iter=100, multi_class='multinomial')\n",
    "    acc=(softmax_model.fit(X_train, y_train).score(X_test, y_test))*100\n",
    "    print(\"The accuracy of the Softmax regression when using \\\"{}\\\" as a solver is : \".format(solver)+str(acc)+\" %\")"
   ]
  },
  {
   "cell_type": "markdown",
   "metadata": {},
   "source": [
    "<font color=\"#80000\"> **Comments on the results :** \n",
    "* Having used regularized Softmax regression we do not **even** attain the accuracies of a **none tuned** CNN model (~92% for the best Softmax regression compared to ~97% accuracy for a simple none tuned CNN).\n",
    "* Even with different optimization solvers, we the Softmax regression still away from the accuracy of a simple CNN. \n",
    "    "
   ]
  },
  {
   "cell_type": "markdown",
   "metadata": {},
   "source": [
    "## Conclusion :\n",
    "Convolutional Neural Networks represents one of the powerfull paradigm that gave back a scientific and practical interest for the use of neural networks in pattern recognition tasks. Something we saw throughout this work, since a basic architecture of this type of NN outperformed classical Machine Learning algorithms like the Logistic regression. \n",
    "This being said, there is still a lot of settings work to find the best models, which implies a lot of computation and storage capacity given the large modulation spectre of CNNs and NNs in general.."
   ]
  }
 ],
 "metadata": {
  "kernelspec": {
   "display_name": "Python 3",
   "language": "python",
   "name": "python3"
  },
  "language_info": {
   "codemirror_mode": {
    "name": "ipython",
    "version": 3
   },
   "file_extension": ".py",
   "mimetype": "text/x-python",
   "name": "python",
   "nbconvert_exporter": "python",
   "pygments_lexer": "ipython3",
   "version": "3.7.4"
  }
 },
 "nbformat": 4,
 "nbformat_minor": 2
}
